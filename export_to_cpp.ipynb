{
 "cells": [
  {
   "cell_type": "code",
   "execution_count": 4,
   "metadata": {},
   "outputs": [],
   "source": [
    "import numpy as np\n",
    "import pandas as pd\n",
    "import torch\n",
    "import os;\n",
    "from misc.MLP import MLP\n",
    "from misc.iterators import data_iterators\n",
    "from misc.MLP import MLP\n",
    "from pytorch_lightning import utilities"
   ]
  },
  {
   "cell_type": "code",
   "execution_count": 5,
   "metadata": {},
   "outputs": [
    {
     "name": "stderr",
     "output_type": "stream",
     "text": [
      "Global seed set to 0\n"
     ]
    },
    {
     "ename": "FileNotFoundError",
     "evalue": "[Errno 2] No such file or directory: '/home/rodrigo/Desktop/McGill/Research/Rates/rate_modelling/Results/saved_models/Method_0/M_0_n_layers_8_hid_dim_64_val_pc_err=4.64e-02.ckpt'",
     "output_type": "error",
     "traceback": [
      "\u001b[0;31m---------------------------------------------------------------------------\u001b[0m",
      "\u001b[0;31mFileNotFoundError\u001b[0m                         Traceback (most recent call last)",
      "\u001b[1;32m/home/rodrigo/Desktop/McGill/Research/Rates/rate_modelling/export_to_cpp.ipynb Cell 2'\u001b[0m in \u001b[0;36m<cell line: 30>\u001b[0;34m()\u001b[0m\n\u001b[1;32m     <a href='vscode-notebook-cell:/home/rodrigo/Desktop/McGill/Research/Rates/rate_modelling/export_to_cpp.ipynb#ch0000001?line=25'>26</a>\u001b[0m     input_example \u001b[39m=\u001b[39m x[:\u001b[39m4\u001b[39m]\n\u001b[1;32m     <a href='vscode-notebook-cell:/home/rodrigo/Desktop/McGill/Research/Rates/rate_modelling/export_to_cpp.ipynb#ch0000001?line=26'>27</a>\u001b[0m     \u001b[39mbreak\u001b[39;00m\n\u001b[0;32m---> <a href='vscode-notebook-cell:/home/rodrigo/Desktop/McGill/Research/Rates/rate_modelling/export_to_cpp.ipynb#ch0000001?line=29'>30</a>\u001b[0m model \u001b[39m=\u001b[39m MLP\u001b[39m.\u001b[39;49mload_from_checkpoint(\n\u001b[1;32m     <a href='vscode-notebook-cell:/home/rodrigo/Desktop/McGill/Research/Rates/rate_modelling/export_to_cpp.ipynb#ch0000001?line=30'>31</a>\u001b[0m     checkpoint_path\u001b[39m=\u001b[39;49mmodel_path,\n\u001b[1;32m     <a href='vscode-notebook-cell:/home/rodrigo/Desktop/McGill/Research/Rates/rate_modelling/export_to_cpp.ipynb#ch0000001?line=31'>32</a>\u001b[0m     hidden_dim\u001b[39m=\u001b[39;49mh_dim,\n\u001b[1;32m     <a href='vscode-notebook-cell:/home/rodrigo/Desktop/McGill/Research/Rates/rate_modelling/export_to_cpp.ipynb#ch0000001?line=32'>33</a>\u001b[0m     n_layers\u001b[39m=\u001b[39;49mn_layers,\n\u001b[1;32m     <a href='vscode-notebook-cell:/home/rodrigo/Desktop/McGill/Research/Rates/rate_modelling/export_to_cpp.ipynb#ch0000001?line=33'>34</a>\u001b[0m     consts_dict\u001b[39m=\u001b[39;49mconsts_dict\n\u001b[1;32m     <a href='vscode-notebook-cell:/home/rodrigo/Desktop/McGill/Research/Rates/rate_modelling/export_to_cpp.ipynb#ch0000001?line=34'>35</a>\u001b[0m     )\n\u001b[1;32m     <a href='vscode-notebook-cell:/home/rodrigo/Desktop/McGill/Research/Rates/rate_modelling/export_to_cpp.ipynb#ch0000001?line=36'>37</a>\u001b[0m \u001b[39mprint\u001b[39m(input_example)\n\u001b[1;32m     <a href='vscode-notebook-cell:/home/rodrigo/Desktop/McGill/Research/Rates/rate_modelling/export_to_cpp.ipynb#ch0000001?line=37'>38</a>\u001b[0m \u001b[39mprint\u001b[39m(model(input_example))\n",
      "File \u001b[0;32m~/Desktop/McGill/Research/Rates/rate_modelling/.venv/lib/python3.9/site-packages/pytorch_lightning/core/saving.py:139\u001b[0m, in \u001b[0;36mModelIO.load_from_checkpoint\u001b[0;34m(cls, checkpoint_path, map_location, hparams_file, strict, **kwargs)\u001b[0m\n\u001b[1;32m    <a href='file:///home/rodrigo/Desktop/McGill/Research/Rates/rate_modelling/.venv/lib/python3.9/site-packages/pytorch_lightning/core/saving.py?line=136'>137</a>\u001b[0m         checkpoint \u001b[39m=\u001b[39m pl_load(checkpoint_path, map_location\u001b[39m=\u001b[39mmap_location)\n\u001b[1;32m    <a href='file:///home/rodrigo/Desktop/McGill/Research/Rates/rate_modelling/.venv/lib/python3.9/site-packages/pytorch_lightning/core/saving.py?line=137'>138</a>\u001b[0m     \u001b[39melse\u001b[39;00m:\n\u001b[0;32m--> <a href='file:///home/rodrigo/Desktop/McGill/Research/Rates/rate_modelling/.venv/lib/python3.9/site-packages/pytorch_lightning/core/saving.py?line=138'>139</a>\u001b[0m         checkpoint \u001b[39m=\u001b[39m pl_load(checkpoint_path, map_location\u001b[39m=\u001b[39;49m\u001b[39mlambda\u001b[39;49;00m storage, loc: storage)\n\u001b[1;32m    <a href='file:///home/rodrigo/Desktop/McGill/Research/Rates/rate_modelling/.venv/lib/python3.9/site-packages/pytorch_lightning/core/saving.py?line=140'>141</a>\u001b[0m \u001b[39mif\u001b[39;00m hparams_file \u001b[39mis\u001b[39;00m \u001b[39mnot\u001b[39;00m \u001b[39mNone\u001b[39;00m:\n\u001b[1;32m    <a href='file:///home/rodrigo/Desktop/McGill/Research/Rates/rate_modelling/.venv/lib/python3.9/site-packages/pytorch_lightning/core/saving.py?line=141'>142</a>\u001b[0m     extension \u001b[39m=\u001b[39m hparams_file\u001b[39m.\u001b[39msplit(\u001b[39m\"\u001b[39m\u001b[39m.\u001b[39m\u001b[39m\"\u001b[39m)[\u001b[39m-\u001b[39m\u001b[39m1\u001b[39m]\n",
      "File \u001b[0;32m~/Desktop/McGill/Research/Rates/rate_modelling/.venv/lib/python3.9/site-packages/pytorch_lightning/utilities/cloud_io.py:46\u001b[0m, in \u001b[0;36mload\u001b[0;34m(path_or_url, map_location)\u001b[0m\n\u001b[1;32m     <a href='file:///home/rodrigo/Desktop/McGill/Research/Rates/rate_modelling/.venv/lib/python3.9/site-packages/pytorch_lightning/utilities/cloud_io.py?line=43'>44</a>\u001b[0m     \u001b[39mreturn\u001b[39;00m torch\u001b[39m.\u001b[39mhub\u001b[39m.\u001b[39mload_state_dict_from_url(\u001b[39mstr\u001b[39m(path_or_url), map_location\u001b[39m=\u001b[39mmap_location)\n\u001b[1;32m     <a href='file:///home/rodrigo/Desktop/McGill/Research/Rates/rate_modelling/.venv/lib/python3.9/site-packages/pytorch_lightning/utilities/cloud_io.py?line=44'>45</a>\u001b[0m fs \u001b[39m=\u001b[39m get_filesystem(path_or_url)\n\u001b[0;32m---> <a href='file:///home/rodrigo/Desktop/McGill/Research/Rates/rate_modelling/.venv/lib/python3.9/site-packages/pytorch_lightning/utilities/cloud_io.py?line=45'>46</a>\u001b[0m \u001b[39mwith\u001b[39;00m fs\u001b[39m.\u001b[39;49mopen(path_or_url, \u001b[39m\"\u001b[39;49m\u001b[39mrb\u001b[39;49m\u001b[39m\"\u001b[39;49m) \u001b[39mas\u001b[39;00m f:\n\u001b[1;32m     <a href='file:///home/rodrigo/Desktop/McGill/Research/Rates/rate_modelling/.venv/lib/python3.9/site-packages/pytorch_lightning/utilities/cloud_io.py?line=46'>47</a>\u001b[0m     \u001b[39mreturn\u001b[39;00m torch\u001b[39m.\u001b[39mload(f, map_location\u001b[39m=\u001b[39mmap_location)\n",
      "File \u001b[0;32m~/Desktop/McGill/Research/Rates/rate_modelling/.venv/lib/python3.9/site-packages/fsspec/spec.py:1009\u001b[0m, in \u001b[0;36mAbstractFileSystem.open\u001b[0;34m(self, path, mode, block_size, cache_options, compression, **kwargs)\u001b[0m\n\u001b[1;32m   <a href='file:///home/rodrigo/Desktop/McGill/Research/Rates/rate_modelling/.venv/lib/python3.9/site-packages/fsspec/spec.py?line=1006'>1007</a>\u001b[0m \u001b[39melse\u001b[39;00m:\n\u001b[1;32m   <a href='file:///home/rodrigo/Desktop/McGill/Research/Rates/rate_modelling/.venv/lib/python3.9/site-packages/fsspec/spec.py?line=1007'>1008</a>\u001b[0m     ac \u001b[39m=\u001b[39m kwargs\u001b[39m.\u001b[39mpop(\u001b[39m\"\u001b[39m\u001b[39mautocommit\u001b[39m\u001b[39m\"\u001b[39m, \u001b[39mnot\u001b[39;00m \u001b[39mself\u001b[39m\u001b[39m.\u001b[39m_intrans)\n\u001b[0;32m-> <a href='file:///home/rodrigo/Desktop/McGill/Research/Rates/rate_modelling/.venv/lib/python3.9/site-packages/fsspec/spec.py?line=1008'>1009</a>\u001b[0m     f \u001b[39m=\u001b[39m \u001b[39mself\u001b[39;49m\u001b[39m.\u001b[39;49m_open(\n\u001b[1;32m   <a href='file:///home/rodrigo/Desktop/McGill/Research/Rates/rate_modelling/.venv/lib/python3.9/site-packages/fsspec/spec.py?line=1009'>1010</a>\u001b[0m         path,\n\u001b[1;32m   <a href='file:///home/rodrigo/Desktop/McGill/Research/Rates/rate_modelling/.venv/lib/python3.9/site-packages/fsspec/spec.py?line=1010'>1011</a>\u001b[0m         mode\u001b[39m=\u001b[39;49mmode,\n\u001b[1;32m   <a href='file:///home/rodrigo/Desktop/McGill/Research/Rates/rate_modelling/.venv/lib/python3.9/site-packages/fsspec/spec.py?line=1011'>1012</a>\u001b[0m         block_size\u001b[39m=\u001b[39;49mblock_size,\n\u001b[1;32m   <a href='file:///home/rodrigo/Desktop/McGill/Research/Rates/rate_modelling/.venv/lib/python3.9/site-packages/fsspec/spec.py?line=1012'>1013</a>\u001b[0m         autocommit\u001b[39m=\u001b[39;49mac,\n\u001b[1;32m   <a href='file:///home/rodrigo/Desktop/McGill/Research/Rates/rate_modelling/.venv/lib/python3.9/site-packages/fsspec/spec.py?line=1013'>1014</a>\u001b[0m         cache_options\u001b[39m=\u001b[39;49mcache_options,\n\u001b[1;32m   <a href='file:///home/rodrigo/Desktop/McGill/Research/Rates/rate_modelling/.venv/lib/python3.9/site-packages/fsspec/spec.py?line=1014'>1015</a>\u001b[0m         \u001b[39m*\u001b[39;49m\u001b[39m*\u001b[39;49mkwargs,\n\u001b[1;32m   <a href='file:///home/rodrigo/Desktop/McGill/Research/Rates/rate_modelling/.venv/lib/python3.9/site-packages/fsspec/spec.py?line=1015'>1016</a>\u001b[0m     )\n\u001b[1;32m   <a href='file:///home/rodrigo/Desktop/McGill/Research/Rates/rate_modelling/.venv/lib/python3.9/site-packages/fsspec/spec.py?line=1016'>1017</a>\u001b[0m     \u001b[39mif\u001b[39;00m compression \u001b[39mis\u001b[39;00m \u001b[39mnot\u001b[39;00m \u001b[39mNone\u001b[39;00m:\n\u001b[1;32m   <a href='file:///home/rodrigo/Desktop/McGill/Research/Rates/rate_modelling/.venv/lib/python3.9/site-packages/fsspec/spec.py?line=1017'>1018</a>\u001b[0m         \u001b[39mfrom\u001b[39;00m \u001b[39mfsspec\u001b[39;00m\u001b[39m.\u001b[39;00m\u001b[39mcompression\u001b[39;00m \u001b[39mimport\u001b[39;00m compr\n",
      "File \u001b[0;32m~/Desktop/McGill/Research/Rates/rate_modelling/.venv/lib/python3.9/site-packages/fsspec/implementations/local.py:155\u001b[0m, in \u001b[0;36mLocalFileSystem._open\u001b[0;34m(self, path, mode, block_size, **kwargs)\u001b[0m\n\u001b[1;32m    <a href='file:///home/rodrigo/Desktop/McGill/Research/Rates/rate_modelling/.venv/lib/python3.9/site-packages/fsspec/implementations/local.py?line=152'>153</a>\u001b[0m \u001b[39mif\u001b[39;00m \u001b[39mself\u001b[39m\u001b[39m.\u001b[39mauto_mkdir \u001b[39mand\u001b[39;00m \u001b[39m\"\u001b[39m\u001b[39mw\u001b[39m\u001b[39m\"\u001b[39m \u001b[39min\u001b[39;00m mode:\n\u001b[1;32m    <a href='file:///home/rodrigo/Desktop/McGill/Research/Rates/rate_modelling/.venv/lib/python3.9/site-packages/fsspec/implementations/local.py?line=153'>154</a>\u001b[0m     \u001b[39mself\u001b[39m\u001b[39m.\u001b[39mmakedirs(\u001b[39mself\u001b[39m\u001b[39m.\u001b[39m_parent(path), exist_ok\u001b[39m=\u001b[39m\u001b[39mTrue\u001b[39;00m)\n\u001b[0;32m--> <a href='file:///home/rodrigo/Desktop/McGill/Research/Rates/rate_modelling/.venv/lib/python3.9/site-packages/fsspec/implementations/local.py?line=154'>155</a>\u001b[0m \u001b[39mreturn\u001b[39;00m LocalFileOpener(path, mode, fs\u001b[39m=\u001b[39;49m\u001b[39mself\u001b[39;49m, \u001b[39m*\u001b[39;49m\u001b[39m*\u001b[39;49mkwargs)\n",
      "File \u001b[0;32m~/Desktop/McGill/Research/Rates/rate_modelling/.venv/lib/python3.9/site-packages/fsspec/implementations/local.py:250\u001b[0m, in \u001b[0;36mLocalFileOpener.__init__\u001b[0;34m(self, path, mode, autocommit, fs, compression, **kwargs)\u001b[0m\n\u001b[1;32m    <a href='file:///home/rodrigo/Desktop/McGill/Research/Rates/rate_modelling/.venv/lib/python3.9/site-packages/fsspec/implementations/local.py?line=247'>248</a>\u001b[0m \u001b[39mself\u001b[39m\u001b[39m.\u001b[39mcompression \u001b[39m=\u001b[39m get_compression(path, compression)\n\u001b[1;32m    <a href='file:///home/rodrigo/Desktop/McGill/Research/Rates/rate_modelling/.venv/lib/python3.9/site-packages/fsspec/implementations/local.py?line=248'>249</a>\u001b[0m \u001b[39mself\u001b[39m\u001b[39m.\u001b[39mblocksize \u001b[39m=\u001b[39m io\u001b[39m.\u001b[39mDEFAULT_BUFFER_SIZE\n\u001b[0;32m--> <a href='file:///home/rodrigo/Desktop/McGill/Research/Rates/rate_modelling/.venv/lib/python3.9/site-packages/fsspec/implementations/local.py?line=249'>250</a>\u001b[0m \u001b[39mself\u001b[39;49m\u001b[39m.\u001b[39;49m_open()\n",
      "File \u001b[0;32m~/Desktop/McGill/Research/Rates/rate_modelling/.venv/lib/python3.9/site-packages/fsspec/implementations/local.py:255\u001b[0m, in \u001b[0;36mLocalFileOpener._open\u001b[0;34m(self)\u001b[0m\n\u001b[1;32m    <a href='file:///home/rodrigo/Desktop/McGill/Research/Rates/rate_modelling/.venv/lib/python3.9/site-packages/fsspec/implementations/local.py?line=252'>253</a>\u001b[0m \u001b[39mif\u001b[39;00m \u001b[39mself\u001b[39m\u001b[39m.\u001b[39mf \u001b[39mis\u001b[39;00m \u001b[39mNone\u001b[39;00m \u001b[39mor\u001b[39;00m \u001b[39mself\u001b[39m\u001b[39m.\u001b[39mf\u001b[39m.\u001b[39mclosed:\n\u001b[1;32m    <a href='file:///home/rodrigo/Desktop/McGill/Research/Rates/rate_modelling/.venv/lib/python3.9/site-packages/fsspec/implementations/local.py?line=253'>254</a>\u001b[0m     \u001b[39mif\u001b[39;00m \u001b[39mself\u001b[39m\u001b[39m.\u001b[39mautocommit \u001b[39mor\u001b[39;00m \u001b[39m\"\u001b[39m\u001b[39mw\u001b[39m\u001b[39m\"\u001b[39m \u001b[39mnot\u001b[39;00m \u001b[39min\u001b[39;00m \u001b[39mself\u001b[39m\u001b[39m.\u001b[39mmode:\n\u001b[0;32m--> <a href='file:///home/rodrigo/Desktop/McGill/Research/Rates/rate_modelling/.venv/lib/python3.9/site-packages/fsspec/implementations/local.py?line=254'>255</a>\u001b[0m         \u001b[39mself\u001b[39m\u001b[39m.\u001b[39mf \u001b[39m=\u001b[39m \u001b[39mopen\u001b[39;49m(\u001b[39mself\u001b[39;49m\u001b[39m.\u001b[39;49mpath, mode\u001b[39m=\u001b[39;49m\u001b[39mself\u001b[39;49m\u001b[39m.\u001b[39;49mmode)\n\u001b[1;32m    <a href='file:///home/rodrigo/Desktop/McGill/Research/Rates/rate_modelling/.venv/lib/python3.9/site-packages/fsspec/implementations/local.py?line=255'>256</a>\u001b[0m         \u001b[39mif\u001b[39;00m \u001b[39mself\u001b[39m\u001b[39m.\u001b[39mcompression:\n\u001b[1;32m    <a href='file:///home/rodrigo/Desktop/McGill/Research/Rates/rate_modelling/.venv/lib/python3.9/site-packages/fsspec/implementations/local.py?line=256'>257</a>\u001b[0m             compress \u001b[39m=\u001b[39m compr[\u001b[39mself\u001b[39m\u001b[39m.\u001b[39mcompression]\n",
      "\u001b[0;31mFileNotFoundError\u001b[0m: [Errno 2] No such file or directory: '/home/rodrigo/Desktop/McGill/Research/Rates/rate_modelling/Results/saved_models/Method_0/M_0_n_layers_8_hid_dim_64_val_pc_err=4.64e-02.ckpt'"
     ]
    }
   ],
   "source": [
    "utilities.seed.seed_everything(seed=0, workers=True)\n",
    "\n",
    "h_dim = 64\n",
    "n_layers = 8\n",
    "method = '0'\n",
    "batch_size = 64\n",
    "pc_err = \"4.64e-02\"\n",
    "\n",
    "datafile = 'method_'+method+'.csv'\n",
    "datapath='../datasets'\n",
    "result_file = 'model.pt'\n",
    "results_dir = '../Results'\n",
    "\n",
    "\n",
    "(_, _, test), consts_dict = data_iterators(\n",
    "    datafile=datafile,\n",
    "    datapath=datapath,\n",
    "    batch_size=batch_size,\n",
    "    )\n",
    "\n",
    "model_file = f'M_{method}_n_layers_{n_layers}_hid_dim_{h_dim}_val_pc_err={pc_err}.ckpt'\n",
    "model_path = os.path.join(results_dir, \"saved_models\", f'Method_{method}', model_file)\n",
    "\n",
    "for batch in test:\n",
    "    x = batch[0]\n",
    "    input_example = x[:4]\n",
    "    break\n",
    "\n",
    "\n",
    "model = MLP.load_from_checkpoint(\n",
    "    checkpoint_path=model_path,\n",
    "    hidden_dim=h_dim,\n",
    "    n_layers=n_layers,\n",
    "    consts_dict=consts_dict\n",
    "    )\n",
    "\n",
    "print(input_example)\n",
    "print(model(input_example))\n",
    "\n",
    "\n",
    "model.to_torchscript(\n",
    "    file_path=os.path.join(results_dir, \"compiled_models\", result_file),\n",
    "    # method='script',\n",
    "    # example_inputs=example\n",
    "    )\n"
   ]
  },
  {
   "cell_type": "code",
   "execution_count": null,
   "metadata": {},
   "outputs": [],
   "source": []
  },
  {
   "cell_type": "markdown",
   "metadata": {},
   "source": []
  },
  {
   "cell_type": "code",
   "execution_count": null,
   "metadata": {},
   "outputs": [],
   "source": []
  }
 ],
 "metadata": {
  "interpreter": {
   "hash": "5419f4b8d77a62207be0c4190918d038e0d09f5a0017a17b6f6ccb89093bf446"
  },
  "kernelspec": {
   "display_name": "Python 3.9.0 ('.venv': venv)",
   "language": "python",
   "name": "python3"
  },
  "language_info": {
   "codemirror_mode": {
    "name": "ipython",
    "version": 3
   },
   "file_extension": ".py",
   "mimetype": "text/x-python",
   "name": "python",
   "nbconvert_exporter": "python",
   "pygments_lexer": "ipython3",
   "version": "3.9.0"
  },
  "orig_nbformat": 4
 },
 "nbformat": 4,
 "nbformat_minor": 2
}
