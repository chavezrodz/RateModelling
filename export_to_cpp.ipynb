{
 "cells": [
  {
   "cell_type": "code",
   "execution_count": 6,
   "metadata": {},
   "outputs": [],
   "source": [
    "import numpy as np\n",
    "import pandas as pd\n",
    "import torch\n",
    "import os;\n",
    "from misc.MLP import MLP\n",
    "from misc.iterators import data_iterators\n",
    "from misc.MLP import MLP\n",
    "from pytorch_lightning import utilities"
   ]
  },
  {
   "cell_type": "code",
   "execution_count": 7,
   "metadata": {},
   "outputs": [
    {
     "name": "stderr",
     "output_type": "stream",
     "text": [
      "Global seed set to 0\n"
     ]
    },
    {
     "name": "stdout",
     "output_type": "stream",
     "text": [
      "tensor([[6.7110e+00, 2.0130e+00, 1.5600e-01, 1.9000e+01],\n",
      "        [3.0808e+02, 1.3863e+02, 6.3100e-01, 1.6800e-01],\n",
      "        [5.0000e+00, 1.0000e+00, 5.7800e-01, 1.0310e+00],\n",
      "        [2.2952e+02, 1.8362e+02, 2.6100e-01, 1.8900e-01]])\n",
      "tensor([[8.2255e-03],\n",
      "        [9.5262e-06],\n",
      "        [1.1483e-01],\n",
      "        [5.6188e-07]], grad_fn=<PowBackward0>)\n"
     ]
    },
    {
     "data": {
      "text/plain": [
       "RecursiveScriptModule(\n",
       "  original_name=MLP\n",
       "  (pc_err): RecursiveScriptModule(original_name=MAPE)\n",
       "  (abs_err): RecursiveScriptModule(original_name=L1Loss)\n",
       "  (mse): RecursiveScriptModule(original_name=MSELoss)\n",
       "  (mlp): RecursiveScriptModule(\n",
       "    original_name=Sequential\n",
       "    (0): RecursiveScriptModule(original_name=Linear)\n",
       "    (1): RecursiveScriptModule(original_name=ReLU)\n",
       "    (2): RecursiveScriptModule(original_name=Linear)\n",
       "    (3): RecursiveScriptModule(original_name=ReLU)\n",
       "    (4): RecursiveScriptModule(original_name=Linear)\n",
       "    (5): RecursiveScriptModule(original_name=ReLU)\n",
       "    (6): RecursiveScriptModule(original_name=Linear)\n",
       "    (7): RecursiveScriptModule(original_name=ReLU)\n",
       "    (8): RecursiveScriptModule(original_name=Linear)\n",
       "    (9): RecursiveScriptModule(original_name=ReLU)\n",
       "    (10): RecursiveScriptModule(original_name=Linear)\n",
       "    (11): RecursiveScriptModule(original_name=ReLU)\n",
       "    (12): RecursiveScriptModule(original_name=Linear)\n",
       "    (13): RecursiveScriptModule(original_name=ReLU)\n",
       "    (14): RecursiveScriptModule(original_name=Linear)\n",
       "    (15): RecursiveScriptModule(original_name=ReLU)\n",
       "    (16): RecursiveScriptModule(original_name=Linear)\n",
       "    (17): RecursiveScriptModule(original_name=ReLU)\n",
       "    (18): RecursiveScriptModule(original_name=Linear)\n",
       "  )\n",
       ")"
      ]
     },
     "execution_count": 7,
     "metadata": {},
     "output_type": "execute_result"
    }
   ],
   "source": [
    "utilities.seed.seed_everything(seed=0, workers=True)\n",
    "\n",
    "h_dim = 64\n",
    "n_layers = 8\n",
    "method = '0'\n",
    "batch_size = 64\n",
    "pc_err = \"4.64e-02\"\n",
    "\n",
    "datafile = 'method_'+method+'.csv'\n",
    "datapath='../datasets'\n",
    "result_file = 'model.pt'\n",
    "results_dir = '../Results'\n",
    "\n",
    "\n",
    "(_, _, test), consts_dict = data_iterators(\n",
    "    datafile=datafile,\n",
    "    datapath=datapath,\n",
    "    batch_size=batch_size,\n",
    "    )\n",
    "\n",
    "model_file = f'M_{method}_n_layers_{n_layers}_hid_dim_{h_dim}_val_pc_err={pc_err}.ckpt'\n",
    "model_path = os.path.join(results_dir, \"saved_models\", f'Method_{method}', model_file)\n",
    "\n",
    "for batch in test:\n",
    "    x = batch[0]\n",
    "    input_example = x[:4]\n",
    "    break\n",
    "\n",
    "\n",
    "model = MLP.load_from_checkpoint(\n",
    "    checkpoint_path=model_path,\n",
    "    hidden_dim=h_dim,\n",
    "    n_layers=n_layers,\n",
    "    consts_dict=consts_dict\n",
    "    )\n",
    "\n",
    "print(input_example)\n",
    "print(model(input_example))\n",
    "\n",
    "\n",
    "model.to_torchscript(\n",
    "    file_path=os.path.join(results_dir, \"compiled_models\", result_file),\n",
    "    # method='script',\n",
    "    # example_inputs=example\n",
    "    )\n"
   ]
  },
  {
   "cell_type": "code",
   "execution_count": null,
   "metadata": {},
   "outputs": [],
   "source": []
  },
  {
   "cell_type": "markdown",
   "metadata": {},
   "source": []
  },
  {
   "cell_type": "code",
   "execution_count": null,
   "metadata": {},
   "outputs": [],
   "source": []
  }
 ],
 "metadata": {
  "interpreter": {
   "hash": "5419f4b8d77a62207be0c4190918d038e0d09f5a0017a17b6f6ccb89093bf446"
  },
  "kernelspec": {
   "display_name": "Python 3.9.0 ('.venv': venv)",
   "language": "python",
   "name": "python3"
  },
  "language_info": {
   "codemirror_mode": {
    "name": "ipython",
    "version": 3
   },
   "file_extension": ".py",
   "mimetype": "text/x-python",
   "name": "python",
   "nbconvert_exporter": "python",
   "pygments_lexer": "ipython3",
   "version": "3.9.0"
  },
  "orig_nbformat": 4
 },
 "nbformat": 4,
 "nbformat_minor": 2
}
