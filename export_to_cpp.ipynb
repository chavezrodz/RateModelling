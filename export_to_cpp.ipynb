{
 "cells": [
  {
   "cell_type": "code",
   "execution_count": 1,
   "metadata": {},
   "outputs": [],
   "source": [
    "import numpy as np\n",
    "import pandas as pd\n",
    "import torch\n",
    "import os;\n",
    "from misc.MLP import MLP\n",
    "from misc.iterators import data_iterators\n",
    "from misc.MLP import MLP\n",
    "from pytorch_lightning import utilities"
   ]
  },
  {
   "cell_type": "code",
   "execution_count": 2,
   "metadata": {},
   "outputs": [
    {
     "name": "stderr",
     "output_type": "stream",
     "text": [
      "Global seed set to 0\n"
     ]
    },
    {
     "data": {
      "text/plain": [
       "RecursiveScriptModule(\n",
       "  original_name=MLP\n",
       "  (pc_err): RecursiveScriptModule(original_name=MAPE)\n",
       "  (abs_err): RecursiveScriptModule(original_name=L1Loss)\n",
       "  (mse): RecursiveScriptModule(original_name=MSELoss)\n",
       "  (mlp): RecursiveScriptModule(\n",
       "    original_name=Sequential\n",
       "    (0): RecursiveScriptModule(original_name=Linear)\n",
       "    (1): RecursiveScriptModule(original_name=ReLU)\n",
       "    (2): RecursiveScriptModule(original_name=Linear)\n",
       "    (3): RecursiveScriptModule(original_name=ReLU)\n",
       "    (4): RecursiveScriptModule(original_name=Linear)\n",
       "    (5): RecursiveScriptModule(original_name=ReLU)\n",
       "    (6): RecursiveScriptModule(original_name=Linear)\n",
       "    (7): RecursiveScriptModule(original_name=ReLU)\n",
       "    (8): RecursiveScriptModule(original_name=Linear)\n",
       "    (9): RecursiveScriptModule(original_name=ReLU)\n",
       "    (10): RecursiveScriptModule(original_name=Linear)\n",
       "    (11): RecursiveScriptModule(original_name=ReLU)\n",
       "    (12): RecursiveScriptModule(original_name=Linear)\n",
       "    (13): RecursiveScriptModule(original_name=ReLU)\n",
       "    (14): RecursiveScriptModule(original_name=Linear)\n",
       "    (15): RecursiveScriptModule(original_name=ReLU)\n",
       "    (16): RecursiveScriptModule(original_name=Linear)\n",
       "    (17): RecursiveScriptModule(original_name=ReLU)\n",
       "    (18): RecursiveScriptModule(original_name=Linear)\n",
       "  )\n",
       ")"
      ]
     },
     "execution_count": 2,
     "metadata": {},
     "output_type": "execute_result"
    }
   ],
   "source": [
    "utilities.seed.seed_everything(seed=0, workers=True)\n",
    "\n",
    "h_dim = 64\n",
    "n_layers = 8\n",
    "method = '0'\n",
    "batch_size = 64\n",
    "pc_err = \"4.64e-02\"\n",
    "\n",
    "datafile = 'method_'+method+'.csv'\n",
    "\n",
    "(_, _, test), consts_dict = data_iterators(\n",
    "    batch_size=batch_size,\n",
    "    datafile=datafile\n",
    "    )\n",
    "\n",
    "model_file = f'M_{method}_n_layers_{n_layers}_hid_dim_{h_dim}_val_pc_err={pc_err}.ckpt'\n",
    "model_path = os.path.join(\"Results\", \"saved_models\", f'Method_{method}', model_file)\n",
    "model = MLP.load_from_checkpoint(\n",
    "    checkpoint_path=model_path,\n",
    "    hidden_dim=h_dim,\n",
    "    n_layers=n_layers,\n",
    "    consts_dict=consts_dict\n",
    "    )\n",
    "\n",
    "model.to_torchscript(\n",
    "    file_path=\"model.pt\",\n",
    "    # method='script',\n",
    "    # example_inputs=example\n",
    "    )\n"
   ]
  },
  {
   "cell_type": "code",
   "execution_count": null,
   "metadata": {},
   "outputs": [],
   "source": []
  },
  {
   "cell_type": "markdown",
   "metadata": {},
   "source": []
  },
  {
   "cell_type": "code",
   "execution_count": null,
   "metadata": {},
   "outputs": [],
   "source": []
  }
 ],
 "metadata": {
  "interpreter": {
   "hash": "5419f4b8d77a62207be0c4190918d038e0d09f5a0017a17b6f6ccb89093bf446"
  },
  "kernelspec": {
   "display_name": "Python 3.9.0 ('.venv': venv)",
   "language": "python",
   "name": "python3"
  },
  "language_info": {
   "codemirror_mode": {
    "name": "ipython",
    "version": 3
   },
   "file_extension": ".py",
   "mimetype": "text/x-python",
   "name": "python",
   "nbconvert_exporter": "python",
   "pygments_lexer": "ipython3",
   "version": "3.9.0"
  },
  "orig_nbformat": 4
 },
 "nbformat": 4,
 "nbformat_minor": 2
}
