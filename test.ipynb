{
 "cells": [
  {
   "cell_type": "code",
   "execution_count": 1,
   "metadata": {},
   "outputs": [
    {
     "name": "stderr",
     "output_type": "stream",
     "text": [
      "Global seed set to 0\n"
     ]
    },
    {
     "data": {
      "text/plain": [
       "0"
      ]
     },
     "execution_count": 1,
     "metadata": {},
     "output_type": "execute_result"
    }
   ],
   "source": [
    "import matplotlib.pyplot as plt\n",
    "import numpy as np\n",
    "import pandas as pd\n",
    "import torch\n",
    "import os;\n",
    "from misc.utils import get_mean_norm, log_to_lin, lin_to_log, generate_test_data, get_closest_values\n",
    "from misc.iterators import data_iterators\n",
    "from misc.MLP import MLP\n",
    "from pytorch_lightning import utilities\n",
    "\n",
    "utilities.seed.seed_everything(seed=0, workers=True)"
   ]
  },
  {
   "cell_type": "code",
   "execution_count": 2,
   "metadata": {},
   "outputs": [
    {
     "name": "stdout",
     "output_type": "stream",
     "text": [
      "Number of corrupt lines: 88/6137\n",
      "         M         P        K      T        pc_err\n",
      "705862   0  1000.000  150.000  0.103  2.092978e+02\n",
      "790399   0   745.015  186.254  0.103  2.541631e+02\n",
      "1048656  0  1000.000  300.000  0.420  2.657186e+02\n",
      "882511   0   745.015  149.003  0.103  2.868837e+02\n",
      "976441   0   555.047  194.266  0.156  3.379682e+02\n",
      "...     ..       ...      ...    ...           ...\n",
      "992096   0  1000.000  450.000  0.314  5.553261e+11\n",
      "840899   0  1000.000  350.000  0.314  5.859905e+11\n",
      "1051080  0  1000.000  450.000  0.261  8.307325e+11\n",
      "1131981  0  1000.000  400.000  0.314  1.368639e+12\n",
      "1196823  0  1000.000  400.000  0.261  3.034714e+12\n",
      "\n",
      "[88 rows x 5 columns]\n"
     ]
    }
   ],
   "source": [
    "def load_df(datapath, datafile, which):\n",
    "    if which == 'both':\n",
    "        df1 = pd.read_csv(os.path.join(datapath, 'logspaced', datafile))\n",
    "        df2 = pd.read_csv(os.path.join(datapath, 'linspaced', datafile))\n",
    "        df = pd.concat([df1, df2], ignore_index=True)\n",
    "    else:\n",
    "        df = pd.read_csv(os.path.join(datapath, which, datafile))\n",
    "\n",
    "    df = df.drop_duplicates()\n",
    "\n",
    "    ts = df['t'].unique()\n",
    "    t_10 = ts[np.argmin(np.abs(ts - 10))]\n",
    "    t_max = np.max(ts)\n",
    "\n",
    "    # print(len(df))\n",
    "    df_10 = df[df['t'] == t_10].sort_values(by=['P', 'K', 'T'], ascending=True)\n",
    "    df_max = df[df['t'] == t_max].sort_values(by=['P', 'K', 'T'], ascending=True)\n",
    "\n",
    "    assert np.array_equal(df_10.values[:, :-2], df_max.values[:, :-2])\n",
    "\n",
    "    g10 = df_10['gamma'].values\n",
    "    gmax = df_max['gamma'].values\n",
    "\n",
    "    err = np.abs((g10 - gmax) / g10) * 100\n",
    "\n",
    "    df_10['pc_err'] = err\n",
    "    df_10 = df_10.drop(['gamma', 't'], axis=1)\n",
    "\n",
    "    idx = np.where(err > 200)[0]\n",
    "    df_th = df_10.iloc[idx].sort_values(by='pc_err', ascending=True)\n",
    "\n",
    "    print(f'Number of corrupt lines: {len(idx)}/{len(err)}')\n",
    "    print(df_th)\n",
    "    # print(len(df))\n",
    "\n",
    "    # indices = []\n",
    "    # for line in df_th.values:\n",
    "    #     P, K, T = line[1], line[2], line[3]\n",
    "    #     idx = df.loc[((df['P'] == P) & (df['K'] == K) & (df['T'] == T)), :].index\n",
    "    #     indices.extend(idx.values)\n",
    "    # indices = indices.un\n",
    "    # print(indices)\n",
    "    # print(np.max(indices), len(df))\n",
    "    # df = df.iloc[indices]\n",
    "\n",
    "    return df\n",
    "\n",
    "dataset = 'method_0.csv'\n",
    "df = load_df('datasets', dataset, 'both')"
   ]
  },
  {
   "cell_type": "code",
   "execution_count": 3,
   "metadata": {},
   "outputs": [],
   "source": [
    "def compare_with_data(P, K, T, dataset, model, include_data):\n",
    "    if include_data:\n",
    "        df = load_df('datasets', dataset, 'both')\n",
    "\n",
    "        df = get_closest_values(df, P, K, T)\n",
    "        df = df.sort_values(by='t', ascending=True)\n",
    "\n",
    "        data_gam = df['gamma']\n",
    "        t = df['t'].values\n",
    "        X = df[['P', 'K', 'T', 't']].values\n",
    "        P = df['P'].iloc[0]\n",
    "        K = df['K'].iloc[0]\n",
    "        T = df['T'].iloc[0]\n",
    "\n",
    "        X = torch.tensor(X).type(torch.float)\n",
    "        plt.plot(t, data_gam, label='data')\n",
    "\n",
    "    else:\n",
    "        X = generate_test_data(P, K, T)\n",
    "        t = X[:, -1].clone()\n",
    "        err = 0\n",
    "\n",
    "    pred = model(X).detach().squeeze()\n",
    "\n",
    "    if include_data:\n",
    "        err = ((pred-data_gam)/data_gam).abs().mean()\n",
    "\n",
    "    print(f\"\"\"\n",
    "        P = {P}\n",
    "        K = {K}\n",
    "        T = {T}\n",
    "    Error: {err*100:.2f}%\n",
    "    \"\"\")\n",
    "\n",
    "    plt.plot(t, pred, label='prediction')\n",
    "    plt.xlabel(r'$\\tau (fm)$')\n",
    "    plt.ylabel(r'$d \\Gamma / dK$')\n",
    "    plt.legend()\n",
    "    plt.show()\n"
   ]
  },
  {
   "cell_type": "code",
   "execution_count": 4,
   "metadata": {},
   "outputs": [
    {
     "name": "stdout",
     "output_type": "stream",
     "text": [
      "Number of corrupt lines: 88/6137\n",
      "         M         P        K      T        pc_err\n",
      "705862   0  1000.000  150.000  0.103  2.092978e+02\n",
      "790399   0   745.015  186.254  0.103  2.541631e+02\n",
      "1048656  0  1000.000  300.000  0.420  2.657186e+02\n",
      "882511   0   745.015  149.003  0.103  2.868837e+02\n",
      "976441   0   555.047  194.266  0.156  3.379682e+02\n",
      "...     ..       ...      ...    ...           ...\n",
      "992096   0  1000.000  450.000  0.314  5.553261e+11\n",
      "840899   0  1000.000  350.000  0.314  5.859905e+11\n",
      "1051080  0  1000.000  450.000  0.261  8.307325e+11\n",
      "1131981  0  1000.000  400.000  0.314  1.368639e+12\n",
      "1196823  0  1000.000  400.000  0.261  3.034714e+12\n",
      "\n",
      "[88 rows x 5 columns]\n",
      "\n",
      "        P = 745.015\n",
      "        K = 223.505\n",
      "        T = 0.261\n",
      "    Error: 26.87%\n",
      "    \n"
     ]
    },
    {
     "data": {
      "image/png": "[encoded data removed]",
      "text/plain": [
       "<Figure size 432x288 with 1 Axes>"
      ]
     },
     "metadata": {
      "needs_background": "light"
     },
     "output_type": "display_data"
    }
   ],
   "source": [
    "h_dim = 64\n",
    "n_layers = 8\n",
    "method = '0'\n",
    "batch_size = 64\n",
    "pc_err = \"4.64e-02\"\n",
    "\n",
    "datafile = 'method_'+method+'.csv'\n",
    "\n",
    "(_, _, test), consts_dict = data_iterators(\n",
    "    batch_size=batch_size,\n",
    "    datafile=datafile\n",
    "    )\n",
    "\n",
    "model_file = f'M_{method}_n_layers_{n_layers}_hid_dim_{h_dim}_val_pc_err={pc_err}.ckpt'\n",
    "model_path = os.path.join(\"Results\", \"saved_models\", f'Method_{method}', model_file)\n",
    "model = MLP.load_from_checkpoint(\n",
    "    checkpoint_path=model_path,\n",
    "    hidden_dim=h_dim,\n",
    "    n_layers=n_layers,\n",
    "    consts_dict=consts_dict\n",
    "    )\n",
    "\n",
    "P = 745\n",
    "K = 0.3\n",
    "K *= P\n",
    "T = 0.26\n",
    "include_data = True\n",
    "\n",
    "compare_with_data(P, K, T, datafile, model, include_data=include_data)"
   ]
  },
  {
   "cell_type": "code",
   "execution_count": 5,
   "metadata": {},
   "outputs": [],
   "source": [
    "Ks = np.linspace(0.1, 0.9, 9, endpoint=True)\n",
    "Ts =  np.linspace(0.05, 1, 10).round(3)\n",
    "ts = np.logspace(np.log10(0.05), np.log10(20), 100).round(3)\n",
    "\n",
    "# p_mean, p_norm = get_mean_norm(Ps)\n",
    "T_mean, T_norm = get_mean_norm(Ts, log=False)\n",
    "t_mean, t_norm = get_mean_norm(ts)\n",
    "\n",
    "# print(p_mean, p_norm)\n",
    "splits = 3\n",
    "Ps = np.logspace(np.log10(5), 3, 10).round(3)\n",
    "lin_spaced = np.log10(Ps)\n",
    "# print(lin_spaced)\n",
    "for i in range(splits):\n",
    "    l2 = (lin_spaced[1:] + lin_spaced[:-1])/2\n",
    "    lin_spaced = np.concatenate((lin_spaced, l2))\n",
    "    lin_spaced = np.unique(lin_spaced)\n",
    "    lin_spaced = np.sort(lin_spaced)\n",
    "# print(lin_spaced)\n",
    "\n",
    "# Ps = np.logspace(np.log10(5), 3, 20).round(3)\n",
    "# print(Ps)\n",
    "# print(log_to_lin(Ps, p_mean, p_norm))\n",
    "# print(lin_to_log(log_to_lin(Ps, p_mean, p_norm), p_mean, p_norm))\n",
    "# print(ts)"
   ]
  },
  {
   "cell_type": "code",
   "execution_count": null,
   "metadata": {},
   "outputs": [],
   "source": []
  },
  {
   "cell_type": "code",
   "execution_count": null,
   "metadata": {},
   "outputs": [],
   "source": []
  }
 ],
 "metadata": {
  "interpreter": {
   "hash": "5419f4b8d77a62207be0c4190918d038e0d09f5a0017a17b6f6ccb89093bf446"
  },
  "kernelspec": {
   "display_name": "Python 3.9.0 ('.venv': venv)",
   "language": "python",
   "name": "python3"
  },
  "language_info": {
   "codemirror_mode": {
    "name": "ipython",
    "version": 3
   },
   "file_extension": ".py",
   "mimetype": "text/x-python",
   "name": "python",
   "nbconvert_exporter": "python",
   "pygments_lexer": "ipython3",
   "version": "3.9.0"
  },
  "orig_nbformat": 4
 },
 "nbformat": 4,
 "nbformat_minor": 2
}
