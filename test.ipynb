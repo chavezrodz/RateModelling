{
 "cells": [
  {
   "cell_type": "code",
   "execution_count": 1,
   "metadata": {},
   "outputs": [
    {
     "name": "stderr",
     "output_type": "stream",
     "text": [
      "Global seed set to 0\n"
     ]
    },
    {
     "data": {
      "text/plain": [
       "0"
      ]
     },
     "execution_count": 1,
     "metadata": {},
     "output_type": "execute_result"
    }
   ],
   "source": [
    "import matplotlib.pyplot as plt\n",
    "import numpy as np\n",
    "import pandas as pd\n",
    "import torch\n",
    "import os\n",
    "import seaborn as sns\n",
    "from misc.utils import get_mean_norm, log_to_lin, lin_to_log, generate_test_data, get_closest_values, load_df\n",
    "from misc.iterators import data_iterators\n",
    "from misc.MLP import MLP\n",
    "from pytorch_lightning import utilities\n",
    "\n",
    "utilities.seed.seed_everything(seed=0, workers=True)"
   ]
  },
  {
   "cell_type": "code",
   "execution_count": 2,
   "metadata": {},
   "outputs": [],
   "source": [
    "def compare_with_data(P, K, T, datapath, dataset, model, include_data):\n",
    "    if include_data:\n",
    "        df = load_df(datapath, dataset, 'both')\n",
    "\n",
    "        df = get_closest_values(df, P, K, T)\n",
    "        df = df.sort_values(by='t', ascending=True)\n",
    "\n",
    "        data_gam = df['gamma']\n",
    "        t = df['t'].values\n",
    "        X = df[['P', 'K', 'T', 't']].values\n",
    "        P = df['P'].iloc[0]\n",
    "        K = df['K'].iloc[0]\n",
    "        T = df['T'].iloc[0]\n",
    "\n",
    "        X = torch.tensor(X).type(torch.float)\n",
    "        plt.plot(t, data_gam, label='data')\n",
    "\n",
    "    else:\n",
    "        X = generate_test_data(P, K, T)\n",
    "        t = X[:, -1].clone()\n",
    "        err = 0\n",
    "\n",
    "    pred = model(X).detach().squeeze()\n",
    "\n",
    "    if include_data:\n",
    "        err = ((pred-data_gam)/data_gam).abs().mean()\n",
    "\n",
    "    print(f\"\"\"\n",
    "        P = {P}\n",
    "        K = {K}\n",
    "        T = {T}\n",
    "    Error: {err*100:.2f}%\n",
    "    \"\"\")\n",
    "\n",
    "    plt.plot(t, pred, label='prediction')\n",
    "    plt.xlabel(r'$\\tau (fm)$')\n",
    "    plt.ylabel(r'$d \\Gamma / dK$')\n",
    "    plt.legend()\n",
    "    plt.show()\n"
   ]
  },
  {
   "cell_type": "code",
   "execution_count": 4,
   "metadata": {},
   "outputs": [
    {
     "ename": "FileNotFoundError",
     "evalue": "[Errno 2] No such file or directory: 'datasets/logspaced/method_0.csv'",
     "output_type": "error",
     "traceback": [
      "\u001b[0;31m---------------------------------------------------------------------------\u001b[0m",
      "\u001b[0;31mFileNotFoundError\u001b[0m                         Traceback (most recent call last)",
      "\u001b[1;32m/home/rodrigo/Desktop/McGill/Research/Rates/rate_modelling/test.ipynb Cell 3'\u001b[0m in \u001b[0;36m<cell line: 31>\u001b[0;34m()\u001b[0m\n\u001b[1;32m     <a href='vscode-notebook-cell:/home/rodrigo/Desktop/McGill/Research/Rates/rate_modelling/test.ipynb#ch0000002?line=27'>28</a>\u001b[0m T \u001b[39m=\u001b[39m \u001b[39m0.26\u001b[39m\n\u001b[1;32m     <a href='vscode-notebook-cell:/home/rodrigo/Desktop/McGill/Research/Rates/rate_modelling/test.ipynb#ch0000002?line=28'>29</a>\u001b[0m include_data \u001b[39m=\u001b[39m \u001b[39mTrue\u001b[39;00m\n\u001b[0;32m---> <a href='vscode-notebook-cell:/home/rodrigo/Desktop/McGill/Research/Rates/rate_modelling/test.ipynb#ch0000002?line=30'>31</a>\u001b[0m compare_with_data(P, K, T, datafile, model, include_data\u001b[39m=\u001b[39;49minclude_data)\n",
      "\u001b[1;32m/home/rodrigo/Desktop/McGill/Research/Rates/rate_modelling/test.ipynb Cell 2'\u001b[0m in \u001b[0;36mcompare_with_data\u001b[0;34m(P, K, T, dataset, model, include_data)\u001b[0m\n\u001b[1;32m      <a href='vscode-notebook-cell:/home/rodrigo/Desktop/McGill/Research/Rates/rate_modelling/test.ipynb#ch0000001?line=0'>1</a>\u001b[0m \u001b[39mdef\u001b[39;00m \u001b[39mcompare_with_data\u001b[39m(P, K, T, dataset, model, include_data):\n\u001b[1;32m      <a href='vscode-notebook-cell:/home/rodrigo/Desktop/McGill/Research/Rates/rate_modelling/test.ipynb#ch0000001?line=1'>2</a>\u001b[0m     \u001b[39mif\u001b[39;00m include_data:\n\u001b[0;32m----> <a href='vscode-notebook-cell:/home/rodrigo/Desktop/McGill/Research/Rates/rate_modelling/test.ipynb#ch0000001?line=2'>3</a>\u001b[0m         df \u001b[39m=\u001b[39m load_df(\u001b[39m'\u001b[39;49m\u001b[39mdatasets\u001b[39;49m\u001b[39m'\u001b[39;49m, dataset, \u001b[39m'\u001b[39;49m\u001b[39mboth\u001b[39;49m\u001b[39m'\u001b[39;49m)\n\u001b[1;32m      <a href='vscode-notebook-cell:/home/rodrigo/Desktop/McGill/Research/Rates/rate_modelling/test.ipynb#ch0000001?line=4'>5</a>\u001b[0m         df \u001b[39m=\u001b[39m get_closest_values(df, P, K, T)\n\u001b[1;32m      <a href='vscode-notebook-cell:/home/rodrigo/Desktop/McGill/Research/Rates/rate_modelling/test.ipynb#ch0000001?line=5'>6</a>\u001b[0m         df \u001b[39m=\u001b[39m df\u001b[39m.\u001b[39msort_values(by\u001b[39m=\u001b[39m\u001b[39m'\u001b[39m\u001b[39mt\u001b[39m\u001b[39m'\u001b[39m, ascending\u001b[39m=\u001b[39m\u001b[39mTrue\u001b[39;00m)\n",
      "File \u001b[0;32m~/Desktop/McGill/Research/Rates/rate_modelling/misc/utils.py:95\u001b[0m, in \u001b[0;36mload_df\u001b[0;34m(datapath, datafile, which, verbose)\u001b[0m\n\u001b[1;32m     <a href='file:///home/rodrigo/Desktop/McGill/Research/Rates/rate_modelling/misc/utils.py?line=92'>93</a>\u001b[0m \u001b[39mdef\u001b[39;00m \u001b[39mload_df\u001b[39m(datapath, datafile, which, verbose\u001b[39m=\u001b[39m\u001b[39mFalse\u001b[39;00m):\n\u001b[1;32m     <a href='file:///home/rodrigo/Desktop/McGill/Research/Rates/rate_modelling/misc/utils.py?line=93'>94</a>\u001b[0m     \u001b[39mif\u001b[39;00m which \u001b[39m==\u001b[39m \u001b[39m'\u001b[39m\u001b[39mboth\u001b[39m\u001b[39m'\u001b[39m:\n\u001b[0;32m---> <a href='file:///home/rodrigo/Desktop/McGill/Research/Rates/rate_modelling/misc/utils.py?line=94'>95</a>\u001b[0m         df1 \u001b[39m=\u001b[39m pd\u001b[39m.\u001b[39;49mread_csv(os\u001b[39m.\u001b[39;49mpath\u001b[39m.\u001b[39;49mjoin(datapath, \u001b[39m'\u001b[39;49m\u001b[39mlogspaced\u001b[39;49m\u001b[39m'\u001b[39;49m, datafile))\n\u001b[1;32m     <a href='file:///home/rodrigo/Desktop/McGill/Research/Rates/rate_modelling/misc/utils.py?line=95'>96</a>\u001b[0m         df2 \u001b[39m=\u001b[39m pd\u001b[39m.\u001b[39mread_csv(os\u001b[39m.\u001b[39mpath\u001b[39m.\u001b[39mjoin(datapath, \u001b[39m'\u001b[39m\u001b[39mlinspaced\u001b[39m\u001b[39m'\u001b[39m, datafile))\n\u001b[1;32m     <a href='file:///home/rodrigo/Desktop/McGill/Research/Rates/rate_modelling/misc/utils.py?line=96'>97</a>\u001b[0m         df \u001b[39m=\u001b[39m pd\u001b[39m.\u001b[39mconcat([df1, df2], ignore_index\u001b[39m=\u001b[39m\u001b[39mTrue\u001b[39;00m)\n",
      "File \u001b[0;32m~/Desktop/McGill/Research/Rates/rate_modelling/.venv/lib/python3.9/site-packages/pandas/util/_decorators.py:311\u001b[0m, in \u001b[0;36mdeprecate_nonkeyword_arguments.<locals>.decorate.<locals>.wrapper\u001b[0;34m(*args, **kwargs)\u001b[0m\n\u001b[1;32m    <a href='file:///home/rodrigo/Desktop/McGill/Research/Rates/rate_modelling/.venv/lib/python3.9/site-packages/pandas/util/_decorators.py?line=304'>305</a>\u001b[0m \u001b[39mif\u001b[39;00m \u001b[39mlen\u001b[39m(args) \u001b[39m>\u001b[39m num_allow_args:\n\u001b[1;32m    <a href='file:///home/rodrigo/Desktop/McGill/Research/Rates/rate_modelling/.venv/lib/python3.9/site-packages/pandas/util/_decorators.py?line=305'>306</a>\u001b[0m     warnings\u001b[39m.\u001b[39mwarn(\n\u001b[1;32m    <a href='file:///home/rodrigo/Desktop/McGill/Research/Rates/rate_modelling/.venv/lib/python3.9/site-packages/pandas/util/_decorators.py?line=306'>307</a>\u001b[0m         msg\u001b[39m.\u001b[39mformat(arguments\u001b[39m=\u001b[39marguments),\n\u001b[1;32m    <a href='file:///home/rodrigo/Desktop/McGill/Research/Rates/rate_modelling/.venv/lib/python3.9/site-packages/pandas/util/_decorators.py?line=307'>308</a>\u001b[0m         \u001b[39mFutureWarning\u001b[39;00m,\n\u001b[1;32m    <a href='file:///home/rodrigo/Desktop/McGill/Research/Rates/rate_modelling/.venv/lib/python3.9/site-packages/pandas/util/_decorators.py?line=308'>309</a>\u001b[0m         stacklevel\u001b[39m=\u001b[39mstacklevel,\n\u001b[1;32m    <a href='file:///home/rodrigo/Desktop/McGill/Research/Rates/rate_modelling/.venv/lib/python3.9/site-packages/pandas/util/_decorators.py?line=309'>310</a>\u001b[0m     )\n\u001b[0;32m--> <a href='file:///home/rodrigo/Desktop/McGill/Research/Rates/rate_modelling/.venv/lib/python3.9/site-packages/pandas/util/_decorators.py?line=310'>311</a>\u001b[0m \u001b[39mreturn\u001b[39;00m func(\u001b[39m*\u001b[39;49margs, \u001b[39m*\u001b[39;49m\u001b[39m*\u001b[39;49mkwargs)\n",
      "File \u001b[0;32m~/Desktop/McGill/Research/Rates/rate_modelling/.venv/lib/python3.9/site-packages/pandas/io/parsers/readers.py:680\u001b[0m, in \u001b[0;36mread_csv\u001b[0;34m(filepath_or_buffer, sep, delimiter, header, names, index_col, usecols, squeeze, prefix, mangle_dupe_cols, dtype, engine, converters, true_values, false_values, skipinitialspace, skiprows, skipfooter, nrows, na_values, keep_default_na, na_filter, verbose, skip_blank_lines, parse_dates, infer_datetime_format, keep_date_col, date_parser, dayfirst, cache_dates, iterator, chunksize, compression, thousands, decimal, lineterminator, quotechar, quoting, doublequote, escapechar, comment, encoding, encoding_errors, dialect, error_bad_lines, warn_bad_lines, on_bad_lines, delim_whitespace, low_memory, memory_map, float_precision, storage_options)\u001b[0m\n\u001b[1;32m    <a href='file:///home/rodrigo/Desktop/McGill/Research/Rates/rate_modelling/.venv/lib/python3.9/site-packages/pandas/io/parsers/readers.py?line=664'>665</a>\u001b[0m kwds_defaults \u001b[39m=\u001b[39m _refine_defaults_read(\n\u001b[1;32m    <a href='file:///home/rodrigo/Desktop/McGill/Research/Rates/rate_modelling/.venv/lib/python3.9/site-packages/pandas/io/parsers/readers.py?line=665'>666</a>\u001b[0m     dialect,\n\u001b[1;32m    <a href='file:///home/rodrigo/Desktop/McGill/Research/Rates/rate_modelling/.venv/lib/python3.9/site-packages/pandas/io/parsers/readers.py?line=666'>667</a>\u001b[0m     delimiter,\n\u001b[0;32m   (...)\u001b[0m\n\u001b[1;32m    <a href='file:///home/rodrigo/Desktop/McGill/Research/Rates/rate_modelling/.venv/lib/python3.9/site-packages/pandas/io/parsers/readers.py?line=675'>676</a>\u001b[0m     defaults\u001b[39m=\u001b[39m{\u001b[39m\"\u001b[39m\u001b[39mdelimiter\u001b[39m\u001b[39m\"\u001b[39m: \u001b[39m\"\u001b[39m\u001b[39m,\u001b[39m\u001b[39m\"\u001b[39m},\n\u001b[1;32m    <a href='file:///home/rodrigo/Desktop/McGill/Research/Rates/rate_modelling/.venv/lib/python3.9/site-packages/pandas/io/parsers/readers.py?line=676'>677</a>\u001b[0m )\n\u001b[1;32m    <a href='file:///home/rodrigo/Desktop/McGill/Research/Rates/rate_modelling/.venv/lib/python3.9/site-packages/pandas/io/parsers/readers.py?line=677'>678</a>\u001b[0m kwds\u001b[39m.\u001b[39mupdate(kwds_defaults)\n\u001b[0;32m--> <a href='file:///home/rodrigo/Desktop/McGill/Research/Rates/rate_modelling/.venv/lib/python3.9/site-packages/pandas/io/parsers/readers.py?line=679'>680</a>\u001b[0m \u001b[39mreturn\u001b[39;00m _read(filepath_or_buffer, kwds)\n",
      "File \u001b[0;32m~/Desktop/McGill/Research/Rates/rate_modelling/.venv/lib/python3.9/site-packages/pandas/io/parsers/readers.py:575\u001b[0m, in \u001b[0;36m_read\u001b[0;34m(filepath_or_buffer, kwds)\u001b[0m\n\u001b[1;32m    <a href='file:///home/rodrigo/Desktop/McGill/Research/Rates/rate_modelling/.venv/lib/python3.9/site-packages/pandas/io/parsers/readers.py?line=571'>572</a>\u001b[0m _validate_names(kwds\u001b[39m.\u001b[39mget(\u001b[39m\"\u001b[39m\u001b[39mnames\u001b[39m\u001b[39m\"\u001b[39m, \u001b[39mNone\u001b[39;00m))\n\u001b[1;32m    <a href='file:///home/rodrigo/Desktop/McGill/Research/Rates/rate_modelling/.venv/lib/python3.9/site-packages/pandas/io/parsers/readers.py?line=573'>574</a>\u001b[0m \u001b[39m# Create the parser.\u001b[39;00m\n\u001b[0;32m--> <a href='file:///home/rodrigo/Desktop/McGill/Research/Rates/rate_modelling/.venv/lib/python3.9/site-packages/pandas/io/parsers/readers.py?line=574'>575</a>\u001b[0m parser \u001b[39m=\u001b[39m TextFileReader(filepath_or_buffer, \u001b[39m*\u001b[39;49m\u001b[39m*\u001b[39;49mkwds)\n\u001b[1;32m    <a href='file:///home/rodrigo/Desktop/McGill/Research/Rates/rate_modelling/.venv/lib/python3.9/site-packages/pandas/io/parsers/readers.py?line=576'>577</a>\u001b[0m \u001b[39mif\u001b[39;00m chunksize \u001b[39mor\u001b[39;00m iterator:\n\u001b[1;32m    <a href='file:///home/rodrigo/Desktop/McGill/Research/Rates/rate_modelling/.venv/lib/python3.9/site-packages/pandas/io/parsers/readers.py?line=577'>578</a>\u001b[0m     \u001b[39mreturn\u001b[39;00m parser\n",
      "File \u001b[0;32m~/Desktop/McGill/Research/Rates/rate_modelling/.venv/lib/python3.9/site-packages/pandas/io/parsers/readers.py:933\u001b[0m, in \u001b[0;36mTextFileReader.__init__\u001b[0;34m(self, f, engine, **kwds)\u001b[0m\n\u001b[1;32m    <a href='file:///home/rodrigo/Desktop/McGill/Research/Rates/rate_modelling/.venv/lib/python3.9/site-packages/pandas/io/parsers/readers.py?line=929'>930</a>\u001b[0m     \u001b[39mself\u001b[39m\u001b[39m.\u001b[39moptions[\u001b[39m\"\u001b[39m\u001b[39mhas_index_names\u001b[39m\u001b[39m\"\u001b[39m] \u001b[39m=\u001b[39m kwds[\u001b[39m\"\u001b[39m\u001b[39mhas_index_names\u001b[39m\u001b[39m\"\u001b[39m]\n\u001b[1;32m    <a href='file:///home/rodrigo/Desktop/McGill/Research/Rates/rate_modelling/.venv/lib/python3.9/site-packages/pandas/io/parsers/readers.py?line=931'>932</a>\u001b[0m \u001b[39mself\u001b[39m\u001b[39m.\u001b[39mhandles: IOHandles \u001b[39m|\u001b[39m \u001b[39mNone\u001b[39;00m \u001b[39m=\u001b[39m \u001b[39mNone\u001b[39;00m\n\u001b[0;32m--> <a href='file:///home/rodrigo/Desktop/McGill/Research/Rates/rate_modelling/.venv/lib/python3.9/site-packages/pandas/io/parsers/readers.py?line=932'>933</a>\u001b[0m \u001b[39mself\u001b[39m\u001b[39m.\u001b[39m_engine \u001b[39m=\u001b[39m \u001b[39mself\u001b[39;49m\u001b[39m.\u001b[39;49m_make_engine(f, \u001b[39mself\u001b[39;49m\u001b[39m.\u001b[39;49mengine)\n",
      "File \u001b[0;32m~/Desktop/McGill/Research/Rates/rate_modelling/.venv/lib/python3.9/site-packages/pandas/io/parsers/readers.py:1217\u001b[0m, in \u001b[0;36mTextFileReader._make_engine\u001b[0;34m(self, f, engine)\u001b[0m\n\u001b[1;32m   <a href='file:///home/rodrigo/Desktop/McGill/Research/Rates/rate_modelling/.venv/lib/python3.9/site-packages/pandas/io/parsers/readers.py?line=1212'>1213</a>\u001b[0m     mode \u001b[39m=\u001b[39m \u001b[39m\"\u001b[39m\u001b[39mrb\u001b[39m\u001b[39m\"\u001b[39m\n\u001b[1;32m   <a href='file:///home/rodrigo/Desktop/McGill/Research/Rates/rate_modelling/.venv/lib/python3.9/site-packages/pandas/io/parsers/readers.py?line=1213'>1214</a>\u001b[0m \u001b[39m# error: No overload variant of \"get_handle\" matches argument types\u001b[39;00m\n\u001b[1;32m   <a href='file:///home/rodrigo/Desktop/McGill/Research/Rates/rate_modelling/.venv/lib/python3.9/site-packages/pandas/io/parsers/readers.py?line=1214'>1215</a>\u001b[0m \u001b[39m# \"Union[str, PathLike[str], ReadCsvBuffer[bytes], ReadCsvBuffer[str]]\"\u001b[39;00m\n\u001b[1;32m   <a href='file:///home/rodrigo/Desktop/McGill/Research/Rates/rate_modelling/.venv/lib/python3.9/site-packages/pandas/io/parsers/readers.py?line=1215'>1216</a>\u001b[0m \u001b[39m# , \"str\", \"bool\", \"Any\", \"Any\", \"Any\", \"Any\", \"Any\"\u001b[39;00m\n\u001b[0;32m-> <a href='file:///home/rodrigo/Desktop/McGill/Research/Rates/rate_modelling/.venv/lib/python3.9/site-packages/pandas/io/parsers/readers.py?line=1216'>1217</a>\u001b[0m \u001b[39mself\u001b[39m\u001b[39m.\u001b[39mhandles \u001b[39m=\u001b[39m get_handle(  \u001b[39m# type: ignore[call-overload]\u001b[39;49;00m\n\u001b[1;32m   <a href='file:///home/rodrigo/Desktop/McGill/Research/Rates/rate_modelling/.venv/lib/python3.9/site-packages/pandas/io/parsers/readers.py?line=1217'>1218</a>\u001b[0m     f,\n\u001b[1;32m   <a href='file:///home/rodrigo/Desktop/McGill/Research/Rates/rate_modelling/.venv/lib/python3.9/site-packages/pandas/io/parsers/readers.py?line=1218'>1219</a>\u001b[0m     mode,\n\u001b[1;32m   <a href='file:///home/rodrigo/Desktop/McGill/Research/Rates/rate_modelling/.venv/lib/python3.9/site-packages/pandas/io/parsers/readers.py?line=1219'>1220</a>\u001b[0m     encoding\u001b[39m=\u001b[39;49m\u001b[39mself\u001b[39;49m\u001b[39m.\u001b[39;49moptions\u001b[39m.\u001b[39;49mget(\u001b[39m\"\u001b[39;49m\u001b[39mencoding\u001b[39;49m\u001b[39m\"\u001b[39;49m, \u001b[39mNone\u001b[39;49;00m),\n\u001b[1;32m   <a href='file:///home/rodrigo/Desktop/McGill/Research/Rates/rate_modelling/.venv/lib/python3.9/site-packages/pandas/io/parsers/readers.py?line=1220'>1221</a>\u001b[0m     compression\u001b[39m=\u001b[39;49m\u001b[39mself\u001b[39;49m\u001b[39m.\u001b[39;49moptions\u001b[39m.\u001b[39;49mget(\u001b[39m\"\u001b[39;49m\u001b[39mcompression\u001b[39;49m\u001b[39m\"\u001b[39;49m, \u001b[39mNone\u001b[39;49;00m),\n\u001b[1;32m   <a href='file:///home/rodrigo/Desktop/McGill/Research/Rates/rate_modelling/.venv/lib/python3.9/site-packages/pandas/io/parsers/readers.py?line=1221'>1222</a>\u001b[0m     memory_map\u001b[39m=\u001b[39;49m\u001b[39mself\u001b[39;49m\u001b[39m.\u001b[39;49moptions\u001b[39m.\u001b[39;49mget(\u001b[39m\"\u001b[39;49m\u001b[39mmemory_map\u001b[39;49m\u001b[39m\"\u001b[39;49m, \u001b[39mFalse\u001b[39;49;00m),\n\u001b[1;32m   <a href='file:///home/rodrigo/Desktop/McGill/Research/Rates/rate_modelling/.venv/lib/python3.9/site-packages/pandas/io/parsers/readers.py?line=1222'>1223</a>\u001b[0m     is_text\u001b[39m=\u001b[39;49mis_text,\n\u001b[1;32m   <a href='file:///home/rodrigo/Desktop/McGill/Research/Rates/rate_modelling/.venv/lib/python3.9/site-packages/pandas/io/parsers/readers.py?line=1223'>1224</a>\u001b[0m     errors\u001b[39m=\u001b[39;49m\u001b[39mself\u001b[39;49m\u001b[39m.\u001b[39;49moptions\u001b[39m.\u001b[39;49mget(\u001b[39m\"\u001b[39;49m\u001b[39mencoding_errors\u001b[39;49m\u001b[39m\"\u001b[39;49m, \u001b[39m\"\u001b[39;49m\u001b[39mstrict\u001b[39;49m\u001b[39m\"\u001b[39;49m),\n\u001b[1;32m   <a href='file:///home/rodrigo/Desktop/McGill/Research/Rates/rate_modelling/.venv/lib/python3.9/site-packages/pandas/io/parsers/readers.py?line=1224'>1225</a>\u001b[0m     storage_options\u001b[39m=\u001b[39;49m\u001b[39mself\u001b[39;49m\u001b[39m.\u001b[39;49moptions\u001b[39m.\u001b[39;49mget(\u001b[39m\"\u001b[39;49m\u001b[39mstorage_options\u001b[39;49m\u001b[39m\"\u001b[39;49m, \u001b[39mNone\u001b[39;49;00m),\n\u001b[1;32m   <a href='file:///home/rodrigo/Desktop/McGill/Research/Rates/rate_modelling/.venv/lib/python3.9/site-packages/pandas/io/parsers/readers.py?line=1225'>1226</a>\u001b[0m )\n\u001b[1;32m   <a href='file:///home/rodrigo/Desktop/McGill/Research/Rates/rate_modelling/.venv/lib/python3.9/site-packages/pandas/io/parsers/readers.py?line=1226'>1227</a>\u001b[0m \u001b[39massert\u001b[39;00m \u001b[39mself\u001b[39m\u001b[39m.\u001b[39mhandles \u001b[39mis\u001b[39;00m \u001b[39mnot\u001b[39;00m \u001b[39mNone\u001b[39;00m\n\u001b[1;32m   <a href='file:///home/rodrigo/Desktop/McGill/Research/Rates/rate_modelling/.venv/lib/python3.9/site-packages/pandas/io/parsers/readers.py?line=1227'>1228</a>\u001b[0m f \u001b[39m=\u001b[39m \u001b[39mself\u001b[39m\u001b[39m.\u001b[39mhandles\u001b[39m.\u001b[39mhandle\n",
      "File \u001b[0;32m~/Desktop/McGill/Research/Rates/rate_modelling/.venv/lib/python3.9/site-packages/pandas/io/common.py:789\u001b[0m, in \u001b[0;36mget_handle\u001b[0;34m(path_or_buf, mode, encoding, compression, memory_map, is_text, errors, storage_options)\u001b[0m\n\u001b[1;32m    <a href='file:///home/rodrigo/Desktop/McGill/Research/Rates/rate_modelling/.venv/lib/python3.9/site-packages/pandas/io/common.py?line=783'>784</a>\u001b[0m \u001b[39melif\u001b[39;00m \u001b[39misinstance\u001b[39m(handle, \u001b[39mstr\u001b[39m):\n\u001b[1;32m    <a href='file:///home/rodrigo/Desktop/McGill/Research/Rates/rate_modelling/.venv/lib/python3.9/site-packages/pandas/io/common.py?line=784'>785</a>\u001b[0m     \u001b[39m# Check whether the filename is to be opened in binary mode.\u001b[39;00m\n\u001b[1;32m    <a href='file:///home/rodrigo/Desktop/McGill/Research/Rates/rate_modelling/.venv/lib/python3.9/site-packages/pandas/io/common.py?line=785'>786</a>\u001b[0m     \u001b[39m# Binary mode does not support 'encoding' and 'newline'.\u001b[39;00m\n\u001b[1;32m    <a href='file:///home/rodrigo/Desktop/McGill/Research/Rates/rate_modelling/.venv/lib/python3.9/site-packages/pandas/io/common.py?line=786'>787</a>\u001b[0m     \u001b[39mif\u001b[39;00m ioargs\u001b[39m.\u001b[39mencoding \u001b[39mand\u001b[39;00m \u001b[39m\"\u001b[39m\u001b[39mb\u001b[39m\u001b[39m\"\u001b[39m \u001b[39mnot\u001b[39;00m \u001b[39min\u001b[39;00m ioargs\u001b[39m.\u001b[39mmode:\n\u001b[1;32m    <a href='file:///home/rodrigo/Desktop/McGill/Research/Rates/rate_modelling/.venv/lib/python3.9/site-packages/pandas/io/common.py?line=787'>788</a>\u001b[0m         \u001b[39m# Encoding\u001b[39;00m\n\u001b[0;32m--> <a href='file:///home/rodrigo/Desktop/McGill/Research/Rates/rate_modelling/.venv/lib/python3.9/site-packages/pandas/io/common.py?line=788'>789</a>\u001b[0m         handle \u001b[39m=\u001b[39m \u001b[39mopen\u001b[39;49m(\n\u001b[1;32m    <a href='file:///home/rodrigo/Desktop/McGill/Research/Rates/rate_modelling/.venv/lib/python3.9/site-packages/pandas/io/common.py?line=789'>790</a>\u001b[0m             handle,\n\u001b[1;32m    <a href='file:///home/rodrigo/Desktop/McGill/Research/Rates/rate_modelling/.venv/lib/python3.9/site-packages/pandas/io/common.py?line=790'>791</a>\u001b[0m             ioargs\u001b[39m.\u001b[39;49mmode,\n\u001b[1;32m    <a href='file:///home/rodrigo/Desktop/McGill/Research/Rates/rate_modelling/.venv/lib/python3.9/site-packages/pandas/io/common.py?line=791'>792</a>\u001b[0m             encoding\u001b[39m=\u001b[39;49mioargs\u001b[39m.\u001b[39;49mencoding,\n\u001b[1;32m    <a href='file:///home/rodrigo/Desktop/McGill/Research/Rates/rate_modelling/.venv/lib/python3.9/site-packages/pandas/io/common.py?line=792'>793</a>\u001b[0m             errors\u001b[39m=\u001b[39;49merrors,\n\u001b[1;32m    <a href='file:///home/rodrigo/Desktop/McGill/Research/Rates/rate_modelling/.venv/lib/python3.9/site-packages/pandas/io/common.py?line=793'>794</a>\u001b[0m             newline\u001b[39m=\u001b[39;49m\u001b[39m\"\u001b[39;49m\u001b[39m\"\u001b[39;49m,\n\u001b[1;32m    <a href='file:///home/rodrigo/Desktop/McGill/Research/Rates/rate_modelling/.venv/lib/python3.9/site-packages/pandas/io/common.py?line=794'>795</a>\u001b[0m         )\n\u001b[1;32m    <a href='file:///home/rodrigo/Desktop/McGill/Research/Rates/rate_modelling/.venv/lib/python3.9/site-packages/pandas/io/common.py?line=795'>796</a>\u001b[0m     \u001b[39melse\u001b[39;00m:\n\u001b[1;32m    <a href='file:///home/rodrigo/Desktop/McGill/Research/Rates/rate_modelling/.venv/lib/python3.9/site-packages/pandas/io/common.py?line=796'>797</a>\u001b[0m         \u001b[39m# Binary mode\u001b[39;00m\n\u001b[1;32m    <a href='file:///home/rodrigo/Desktop/McGill/Research/Rates/rate_modelling/.venv/lib/python3.9/site-packages/pandas/io/common.py?line=797'>798</a>\u001b[0m         handle \u001b[39m=\u001b[39m \u001b[39mopen\u001b[39m(handle, ioargs\u001b[39m.\u001b[39mmode)\n",
      "\u001b[0;31mFileNotFoundError\u001b[0m: [Errno 2] No such file or directory: 'datasets/logspaced/method_0.csv'"
     ]
    }
   ],
   "source": [
    "h_dim = 64\n",
    "n_layers = 8\n",
    "method = '0'\n",
    "batch_size = 64\n",
    "pc_err = \"2.54e-02\"\n",
    "\n",
    "datafile = 'method_'+method+'.csv'\n",
    "datapath = '../datasets'\n",
    "results_dir = \"../Results\"\n",
    "(_, _, test), consts_dict = data_iterators(\n",
    "    datafile=datafile,\n",
    "    datapath=datapath,\n",
    "    batch_size=batch_size\n",
    "    )\n",
    "\n",
    "model_file = f'M_{method}_n_layers_{n_layers}_hid_dim_{h_dim}_val_pc_err={pc_err}.ckpt'\n",
    "model_path = os.path.join(results_dir, \"saved_models\", f'Method_{method}', model_file)\n",
    "model = MLP.load_from_checkpoint(\n",
    "    checkpoint_path=model_path,\n",
    "    hidden_dim=h_dim,\n",
    "    n_layers=n_layers,\n",
    "    consts_dict=consts_dict\n",
    "    )\n",
    "\n",
    "P = 100\n",
    "K = 0.3\n",
    "K *= P\n",
    "T = 0.26\n",
    "include_data = True\n",
    "\n",
    "compare_with_data(P, K, T, datapath, datafile, model, include_data=include_data)"
   ]
  },
  {
   "cell_type": "code",
   "execution_count": 35,
   "metadata": {},
   "outputs": [],
   "source": [
    "Ks = np.linspace(0.1, 0.9, 9, endpoint=True)\n",
    "Ts =  np.linspace(0.05, 1, 10).round(3)\n",
    "ts = np.logspace(np.log10(0.05), np.log10(20), 100).round(3)\n",
    "\n",
    "# p_mean, p_norm = get_mean_norm(Ps)\n",
    "T_mean, T_norm = get_mean_norm(Ts, log=False)\n",
    "t_mean, t_norm = get_mean_norm(ts)\n",
    "\n",
    "# print(p_mean, p_norm)\n",
    "splits = 3\n",
    "Ps = np.logspace(np.log10(5), 3, 10).round(3)\n",
    "lin_spaced = np.log10(Ps)\n",
    "# print(lin_spaced)\n",
    "for i in range(splits):\n",
    "    l2 = (lin_spaced[1:] + lin_spaced[:-1])/2\n",
    "    lin_spaced = np.concatenate((lin_spaced, l2))\n",
    "    lin_spaced = np.unique(lin_spaced)\n",
    "    lin_spaced = np.sort(lin_spaced)\n",
    "# print(lin_spaced)\n",
    "\n",
    "# Ps = np.logspace(np.log10(5), 3, 20).round(3)\n",
    "# print(Ps)\n",
    "# print(log_to_lin(Ps, p_mean, p_norm))\n",
    "# print(lin_to_log(log_to_lin(Ps, p_mean, p_norm), p_mean, p_norm))\n",
    "# print(ts)"
   ]
  },
  {
   "cell_type": "code",
   "execution_count": null,
   "metadata": {},
   "outputs": [],
   "source": []
  },
  {
   "cell_type": "code",
   "execution_count": null,
   "metadata": {},
   "outputs": [],
   "source": []
  }
 ],
 "metadata": {
  "interpreter": {
   "hash": "5419f4b8d77a62207be0c4190918d038e0d09f5a0017a17b6f6ccb89093bf446"
  },
  "kernelspec": {
   "display_name": "Python 3.9.0 ('.venv': venv)",
   "language": "python",
   "name": "python3"
  },
  "language_info": {
   "codemirror_mode": {
    "name": "ipython",
    "version": 3
   },
   "file_extension": ".py",
   "mimetype": "text/x-python",
   "name": "python",
   "nbconvert_exporter": "python",
   "pygments_lexer": "ipython3",
   "version": "3.9.0"
  },
  "orig_nbformat": 4
 },
 "nbformat": 4,
 "nbformat_minor": 2
}
