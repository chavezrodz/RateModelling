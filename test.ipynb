{
 "cells": [
  {
   "cell_type": "code",
   "execution_count": 18,
   "metadata": {},
   "outputs": [
    {
     "name": "stderr",
     "output_type": "stream",
     "text": [
      "Global seed set to 0\n"
     ]
    },
    {
     "data": {
      "text/plain": [
       "0"
      ]
     },
     "execution_count": 18,
     "metadata": {},
     "output_type": "execute_result"
    }
   ],
   "source": [
    "import matplotlib.pyplot as plt\n",
    "import numpy as np\n",
    "import pandas as pd\n",
    "import torch\n",
    "import os\n",
    "import seaborn as sns\n",
    "from misc.utils import get_mean_norm, log_to_lin, lin_to_log, generate_test_data, get_closest_values, load_df\n",
    "from misc.iterators import get_iterators\n",
    "from misc.Wrapper import Wrapper\n",
    "from pytorch_lightning import utilities\n",
    "\n",
    "utilities.seed.seed_everything(seed=0, workers=True)"
   ]
  },
  {
   "cell_type": "code",
   "execution_count": 19,
   "metadata": {},
   "outputs": [],
   "source": [
    "def compare_with_data(P, K, T, datapath, dataset, model, include_data):\n",
    "    if include_data:\n",
    "        df = load_df(datapath, dataset, 'both')\n",
    "\n",
    "        df = get_closest_values(df, P, K, T)\n",
    "        df = df.sort_values(by='t', ascending=True)\n",
    "\n",
    "        data_gam = df['gamma']\n",
    "        t = df['t'].values\n",
    "        X = df[['P', 'K', 'T', 't']].values\n",
    "        P = df['P'].iloc[0]\n",
    "        K = df['K'].iloc[0]\n",
    "        T = df['T'].iloc[0]\n",
    "\n",
    "        X = torch.tensor(X).type(torch.float)\n",
    "        plt.plot(t, data_gam, label='data')\n",
    "\n",
    "    else:\n",
    "        X = generate_test_data(P, K, T)\n",
    "        t = X[:, -1].clone()\n",
    "        err = 0\n",
    "\n",
    "    pred = model(X).detach().squeeze()\n",
    "\n",
    "    if include_data:\n",
    "        err = ((pred-data_gam)/data_gam).abs().mean()\n",
    "\n",
    "    print(f\"\"\"\n",
    "        P = {P}\n",
    "        K = {K}\n",
    "        T = {T}\n",
    "    Error: {err*100:.2f}%\n",
    "    \"\"\")\n",
    "\n",
    "    plt.plot(t, pred, label='prediction')\n",
    "    plt.xlabel(r'$\\tau (fm)$')\n",
    "    plt.ylabel(r'$d \\Gamma / dK$')\n",
    "    plt.legend()\n",
    "    plt.show()\n"
   ]
  },
  {
   "cell_type": "code",
   "execution_count": 24,
   "metadata": {},
   "outputs": [
    {
     "ename": "NameError",
     "evalue": "name 'Wrapper' is not defined",
     "output_type": "error",
     "traceback": [
      "\u001b[0;31m---------------------------------------------------------------------------\u001b[0m",
      "\u001b[0;31mNameError\u001b[0m                                 Traceback (most recent call last)",
      "\u001b[1;32m/home/rodrigo/Desktop/McGill/Research/Rates/rate_modelling/test.ipynb Cell 3'\u001b[0m in \u001b[0;36m<cell line: 24>\u001b[0;34m()\u001b[0m\n\u001b[1;32m     <a href='vscode-notebook-cell:/home/rodrigo/Desktop/McGill/Research/Rates/rate_modelling/test.ipynb#ch0000002?line=19'>20</a>\u001b[0m model_file \u001b[39m=\u001b[39m \u001b[39mf\u001b[39m\u001b[39m'\u001b[39m\u001b[39mM_\u001b[39m\u001b[39m{\u001b[39;00mmethod\u001b[39m}\u001b[39;00m\u001b[39m_n_layers_\u001b[39m\u001b[39m{\u001b[39;00mn_layers\u001b[39m}\u001b[39;00m\u001b[39m_hid_dim_\u001b[39m\u001b[39m{\u001b[39;00mh_dim\u001b[39m}\u001b[39;00m\u001b[39m_val_pc_err=\u001b[39m\u001b[39m{\u001b[39;00mpc_err\u001b[39m}\u001b[39;00m\u001b[39m.ckpt\u001b[39m\u001b[39m'\u001b[39m\n\u001b[1;32m     <a href='vscode-notebook-cell:/home/rodrigo/Desktop/McGill/Research/Rates/rate_modelling/test.ipynb#ch0000002?line=20'>21</a>\u001b[0m model_path \u001b[39m=\u001b[39m os\u001b[39m.\u001b[39mpath\u001b[39m.\u001b[39mjoin(\n\u001b[1;32m     <a href='vscode-notebook-cell:/home/rodrigo/Desktop/McGill/Research/Rates/rate_modelling/test.ipynb#ch0000002?line=21'>22</a>\u001b[0m     results_dir, proj_dir, \u001b[39m\"\u001b[39m\u001b[39msaved_models\u001b[39m\u001b[39m\"\u001b[39m, \u001b[39mf\u001b[39m\u001b[39m'\u001b[39m\u001b[39mMethod_\u001b[39m\u001b[39m{\u001b[39;00mmethod\u001b[39m}\u001b[39;00m\u001b[39m'\u001b[39m, model_file\n\u001b[1;32m     <a href='vscode-notebook-cell:/home/rodrigo/Desktop/McGill/Research/Rates/rate_modelling/test.ipynb#ch0000002?line=22'>23</a>\u001b[0m     )\n\u001b[0;32m---> <a href='vscode-notebook-cell:/home/rodrigo/Desktop/McGill/Research/Rates/rate_modelling/test.ipynb#ch0000002?line=23'>24</a>\u001b[0m model \u001b[39m=\u001b[39m Wrapper\u001b[39m.\u001b[39mload_from_checkpoint(\n\u001b[1;32m     <a href='vscode-notebook-cell:/home/rodrigo/Desktop/McGill/Research/Rates/rate_modelling/test.ipynb#ch0000002?line=24'>25</a>\u001b[0m     checkpoint_path\u001b[39m=\u001b[39mmodel_path,\n\u001b[1;32m     <a href='vscode-notebook-cell:/home/rodrigo/Desktop/McGill/Research/Rates/rate_modelling/test.ipynb#ch0000002?line=25'>26</a>\u001b[0m     hidden_dim\u001b[39m=\u001b[39mh_dim,\n\u001b[1;32m     <a href='vscode-notebook-cell:/home/rodrigo/Desktop/McGill/Research/Rates/rate_modelling/test.ipynb#ch0000002?line=26'>27</a>\u001b[0m     n_layers\u001b[39m=\u001b[39mn_layers,\n\u001b[1;32m     <a href='vscode-notebook-cell:/home/rodrigo/Desktop/McGill/Research/Rates/rate_modelling/test.ipynb#ch0000002?line=27'>28</a>\u001b[0m     consts_dict\u001b[39m=\u001b[39mconsts_dict\n\u001b[1;32m     <a href='vscode-notebook-cell:/home/rodrigo/Desktop/McGill/Research/Rates/rate_modelling/test.ipynb#ch0000002?line=28'>29</a>\u001b[0m     )\n\u001b[1;32m     <a href='vscode-notebook-cell:/home/rodrigo/Desktop/McGill/Research/Rates/rate_modelling/test.ipynb#ch0000002?line=30'>31</a>\u001b[0m P \u001b[39m=\u001b[39m \u001b[39m1000\u001b[39m\n\u001b[1;32m     <a href='vscode-notebook-cell:/home/rodrigo/Desktop/McGill/Research/Rates/rate_modelling/test.ipynb#ch0000002?line=31'>32</a>\u001b[0m K \u001b[39m=\u001b[39m \u001b[39m0.99\u001b[39m\n",
      "\u001b[0;31mNameError\u001b[0m: name 'Wrapper' is not defined"
     ]
    }
   ],
   "source": [
    "h_dim = 64\n",
    "n_layers = 8\n",
    "method = '0'\n",
    "batch_size = 64\n",
    "pc_err = \"2.93e-02\"\n",
    "\n",
    "datafile = 'method_'+method+'.csv'\n",
    "datapath = '../datasets'\n",
    "results_dir = \"Results\"\n",
    "proj_dir = \"rate_modelling\"\n",
    "\n",
    "(_, _, test), consts_dict = get_iterators(\n",
    "    method=method,\n",
    "    datapath=datapath,\n",
    "    dataset=proj_dir,\n",
    "    results_path=results_dir,\n",
    "    batch_size=batch_size\n",
    "    )\n",
    "\n",
    "model_file = f'M_{method}_n_layers_{n_layers}_hid_dim_{h_dim}_val_pc_err={pc_err}.ckpt'\n",
    "model_path = os.path.join(\n",
    "    results_dir, proj_dir, \"saved_models\", f'Method_{method}', model_file\n",
    "    )\n",
    "\n",
    "model = Wrapper.load_from_checkpoint(\n",
    "    checkpoint_path=model_path,\n",
    "    hidden_dim=h_dim,\n",
    "    n_layers=n_layers,\n",
    "    consts_dict=consts_dict\n",
    "    )\n",
    "\n",
    "P = 1000\n",
    "K = 0.99\n",
    "K *= P\n",
    "T = 0.26\n",
    "include_data = True\n",
    "\n",
    "compare_with_data(P, K, T, datapath, datafile, model, include_data=include_data)"
   ]
  },
  {
   "cell_type": "code",
   "execution_count": 35,
   "metadata": {},
   "outputs": [],
   "source": [
    "Ks = np.linspace(0.1, 0.9, 9, endpoint=True)\n",
    "Ts =  np.linspace(0.05, 1, 10).round(3)\n",
    "ts = np.logspace(np.log10(0.05), np.log10(20), 100).round(3)\n",
    "\n",
    "# p_mean, p_norm = get_mean_norm(Ps)\n",
    "T_mean, T_norm = get_mean_norm(Ts, log=False)\n",
    "t_mean, t_norm = get_mean_norm(ts)\n",
    "\n",
    "# print(p_mean, p_norm)\n",
    "splits = 3\n",
    "Ps = np.logspace(np.log10(5), 3, 10).round(3)\n",
    "lin_spaced = np.log10(Ps)\n",
    "# print(lin_spaced)\n",
    "for i in range(splits):\n",
    "    l2 = (lin_spaced[1:] + lin_spaced[:-1])/2\n",
    "    lin_spaced = np.concatenate((lin_spaced, l2))\n",
    "    lin_spaced = np.unique(lin_spaced)\n",
    "    lin_spaced = np.sort(lin_spaced)\n",
    "# print(lin_spaced)\n",
    "\n",
    "# Ps = np.logspace(np.log10(5), 3, 20).round(3)\n",
    "# print(Ps)\n",
    "# print(log_to_lin(Ps, p_mean, p_norm))\n",
    "# print(lin_to_log(log_to_lin(Ps, p_mean, p_norm), p_mean, p_norm))\n",
    "# print(ts)"
   ]
  },
  {
   "cell_type": "code",
   "execution_count": null,
   "metadata": {},
   "outputs": [],
   "source": []
  },
  {
   "cell_type": "code",
   "execution_count": null,
   "metadata": {},
   "outputs": [],
   "source": []
  }
 ],
 "metadata": {
  "interpreter": {
   "hash": "5419f4b8d77a62207be0c4190918d038e0d09f5a0017a17b6f6ccb89093bf446"
  },
  "kernelspec": {
   "display_name": "Python 3.9.0 ('.venv': venv)",
   "language": "python",
   "name": "python3"
  },
  "language_info": {
   "codemirror_mode": {
    "name": "ipython",
    "version": 3
   },
   "file_extension": ".py",
   "mimetype": "text/x-python",
   "name": "python",
   "nbconvert_exporter": "python",
   "pygments_lexer": "ipython3",
   "version": "3.9.0"
  },
  "orig_nbformat": 4
 },
 "nbformat": 4,
 "nbformat_minor": 2
}
