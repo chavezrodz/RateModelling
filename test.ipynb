{
 "cells": [
  {
   "cell_type": "code",
   "execution_count": 12,
   "metadata": {},
   "outputs": [],
   "source": [
    "import matplotlib.pyplot as plt\n",
    "import numpy as np\n",
    "import pandas as pd\n",
    "import torch\n",
    "from MLP import MLP\n",
    "import os"
   ]
  },
  {
   "cell_type": "code",
   "execution_count": 33,
   "metadata": {},
   "outputs": [],
   "source": [
    "def generate_test_data(P, K, T, N=50):\n",
    "    t = torch.linspace(0, 20, N)\n",
    "    P = torch.ones(N)*P\n",
    "    K = torch.ones(N)*K\n",
    "    T = torch.ones(N)*T\n",
    "\n",
    "    return torch.stack([P, K, T, t]).T\n",
    "\n",
    "\n",
    "def closest_value(df, col, val):\n",
    "    uniques = df[col].unique()\n",
    "    close_idx = np.argmin(np.abs(uniques - val))\n",
    "    return uniques[close_idx]\n",
    "\n",
    "\n",
    "def get_closest_values(df, P, K, T):\n",
    "    p_closest = closest_value(df, 'P', P)\n",
    "    T_closest = closest_value(df, 'T', T)\n",
    "    subset = df[(df['P'] == p_closest) & (df['T'] == T_closest)]\n",
    "    k_closest = closest_value(subset, 'K', K)\n",
    "    subset = subset[df['K'] == k_closest]\n",
    "    return subset"
   ]
  },
  {
   "cell_type": "code",
   "execution_count": 63,
   "metadata": {},
   "outputs": [],
   "source": [
    "def compare_with_data(P, K, T, dataset, model_path, hidden_dim):\n",
    "    df = pd.read_csv(os.path.join('datasets', dataset))\n",
    "    df = get_closest_values(df, P, K, T)\n",
    "\n",
    "    data_gam = df['gamma']\n",
    "    t = df['t']\n",
    "    X = df[['P', 'K', 'T', 't']].values\n",
    "\n",
    "    X = torch.tensor(X).type(torch.float)\n",
    "\n",
    "    model = MLP.load_from_checkpoint(\n",
    "        checkpoint_path=model_path,\n",
    "        hidden_dim=hidden_dim\n",
    "        )\n",
    "\n",
    "    pred = model(X).detach().squeeze()\n",
    "    print(f\"\"\"\n",
    "    Using M = {df['M'].iloc[0]}\n",
    "        P = {df['P'].iloc[0]} \n",
    "        K = {df['K'].iloc[0]} \n",
    "        T = {df['T'].iloc[0]}\n",
    "    Error: {((pred-data_gam).abs()/data_gam.abs()).mean()*100:.2f}%\n",
    "    \"\"\")\n",
    "    # {pred.shape}{data_gam.shape}\n",
    "\n",
    "    plt.plot(t, data_gam, label='data')\n",
    "    plt.plot(t, pred, label='prediction')\n",
    "    plt.xlabel(r'$\\tau (fm)$')\n",
    "    plt.ylabel(r'$d \\Gamma / dK$')\n",
    "    plt.legend()\n",
    "    plt.show()"
   ]
  },
  {
   "cell_type": "code",
   "execution_count": 72,
   "metadata": {},
   "outputs": [
    {
     "name": "stdout",
     "output_type": "stream",
     "text": [
      "\n",
      "    Using M = 0\n",
      "        P = 9.008 \n",
      "        K = 2.702 \n",
      "        T = 0.156\n",
      "    Error: 10.78%\n",
      "    \n"
     ]
    },
    {
     "name": "stderr",
     "output_type": "stream",
     "text": [
      "/tmp/ipykernel_304103/4055005578.py:21: UserWarning: Boolean Series key will be reindexed to match DataFrame index.\n",
      "  subset = subset[df['K'] == k_closest]\n"
     ]
    },
    {
     "data": {
      "image/png": "[encoded data removed]",
      "text/plain": [
       "<Figure size 432x288 with 1 Axes>"
      ]
     },
     "metadata": {
      "needs_background": "light"
     },
     "output_type": "display_data"
    }
   ],
   "source": [
    "HIDDEN_DIM = 128\n",
    "DATASET = 'method_0.csv'\n",
    "model_path = 'saved_models/M_0_epoch=298.ckpt'\n",
    "# model_path = 'saved_models/M_0_epoch=179crit_pc_err.ckpt'\n",
    "\n",
    "P = 10\n",
    "K = 3\n",
    "T = 0.2\n",
    "\n",
    "compare_with_data(P, K, T, DATASET, model_path, HIDDEN_DIM)"
   ]
  },
  {
   "cell_type": "code",
   "execution_count": null,
   "metadata": {},
   "outputs": [],
   "source": []
  },
  {
   "cell_type": "code",
   "execution_count": null,
   "metadata": {},
   "outputs": [],
   "source": []
  }
 ],
 "metadata": {
  "interpreter": {
   "hash": "5419f4b8d77a62207be0c4190918d038e0d09f5a0017a17b6f6ccb89093bf446"
  },
  "kernelspec": {
   "display_name": "Python 3.9.0 ('.venv': venv)",
   "language": "python",
   "name": "python3"
  },
  "language_info": {
   "codemirror_mode": {
    "name": "ipython",
    "version": 3
   },
   "file_extension": ".py",
   "mimetype": "text/x-python",
   "name": "python",
   "nbconvert_exporter": "python",
   "pygments_lexer": "ipython3",
   "version": "3.9.0"
  },
  "orig_nbformat": 4
 },
 "nbformat": 4,
 "nbformat_minor": 2
}
