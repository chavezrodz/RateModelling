{
 "cells": [
  {
   "cell_type": "code",
   "execution_count": 9,
   "metadata": {},
   "outputs": [],
   "source": [
    "import matplotlib.pyplot as plt\n",
    "import numpy as np\n",
    "import pandas as pd\n",
    "import torch\n",
    "from MLP import MLP\n",
    "import os\n",
    "from compare_data import compare_with_data\n",
    "from utils import get_mean_norm\n"
   ]
  },
  {
   "cell_type": "code",
   "execution_count": 24,
   "metadata": {},
   "outputs": [
    {
     "name": "stdout",
     "output_type": "stream",
     "text": [
      "\n",
      "    Using M = 0\n",
      "        P = 5.0 \n",
      "        K = 3.0 \n",
      "        T = 0.156\n",
      "    Error: 1.97%\n",
      "    \n"
     ]
    },
    {
     "name": "stderr",
     "output_type": "stream",
     "text": [
      "/home/rodrigo/Desktop/McGill/Research/Rates/rate_modelling/compare_data.py:29: UserWarning: Boolean Series key will be reindexed to match DataFrame index.\n",
      "  subset = subset[df['K'] == k_closest]\n"
     ]
    },
    {
     "data": {
      "image/png": "[encoded data removed]",
      "text/plain": [
       "<Figure size 432x288 with 1 Axes>"
      ]
     },
     "metadata": {
      "needs_background": "light"
     },
     "output_type": "display_data"
    }
   ],
   "source": [
    "HIDDEN_DIM = 64\n",
    "N_LAYERS = 6\n",
    "DATASET = 'method_0.csv'\n",
    "# model_path = 'saved_models/M_0_epoch=298.ckpt'\n",
    "# model_path = 'saved_models/M_0_epoch=179crit_pc_err.ckpt'\n",
    "model_file = 'epoch=299_val_pc_err=4.03e-02.ckpt'\n",
    "model_path = os.path.join(\"Results\", \"saved_models\", model_file)\n",
    "\n",
    "P = 6\n",
    "K = 3\n",
    "T = 0.2\n",
    "\n",
    "compare_with_data(P, K, T, DATASET, model_path, HIDDEN_DIM, N_LAYERS)"
   ]
  },
  {
   "cell_type": "code",
   "execution_count": 2,
   "metadata": {},
   "outputs": [
    {
     "name": "stdout",
     "output_type": "stream",
     "text": [
      "1.8494850881985143 1.1505149978319906\n",
      "0.525 0.475\n",
      "1.8494850881985143 1.1505149978319906\n"
     ]
    }
   ],
   "source": [
    "Ps = np.logspace(np.log10(5), 3, 10).round(3)\n",
    "Ts =  np.linspace(0.05, 1, 10).round(3)\n",
    "Ks = np.linspace(0.1, 0.9, 9, endpoint=True)\n",
    "ts = np.logspace(np.log10(5), 3, 10).round(3)\n",
    "\n",
    "p_mean, p_norm = get_mean_norm(Ps)\n",
    "T_mean, T_norm = get_mean_norm(Ts, log=False)\n",
    "t_mean, t_norm = get_mean_norm(ts)\n",
    "print(p_mean, p_norm)\n",
    "print(T_mean, T_norm)\n",
    "print(t_mean, t_norm)"
   ]
  },
  {
   "cell_type": "code",
   "execution_count": null,
   "metadata": {},
   "outputs": [],
   "source": []
  }
 ],
 "metadata": {
  "interpreter": {
   "hash": "5419f4b8d77a62207be0c4190918d038e0d09f5a0017a17b6f6ccb89093bf446"
  },
  "kernelspec": {
   "display_name": "Python 3.9.0 ('.venv': venv)",
   "language": "python",
   "name": "python3"
  },
  "language_info": {
   "codemirror_mode": {
    "name": "ipython",
    "version": 3
   },
   "file_extension": ".py",
   "mimetype": "text/x-python",
   "name": "python",
   "nbconvert_exporter": "python",
   "pygments_lexer": "ipython3",
   "version": "3.9.0"
  },
  "orig_nbformat": 4
 },
 "nbformat": 4,
 "nbformat_minor": 2
}
