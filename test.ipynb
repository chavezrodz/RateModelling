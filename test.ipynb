{
 "cells": [
  {
   "cell_type": "code",
   "execution_count": 8,
   "metadata": {},
   "outputs": [],
   "source": [
    "import matplotlib.pyplot as plt\n",
    "import numpy as np\n",
    "import pandas as pd\n",
    "import torch\n",
    "from MLP import MLP\n",
    "import os;\n",
    "from compare_data import compare_with_data\n",
    "from utils import get_mean_norm, log_to_lin, lin_to_log\n",
    "from iterators import data_iterators\n"
   ]
  },
  {
   "cell_type": "code",
   "execution_count": 9,
   "metadata": {},
   "outputs": [
    {
     "name": "stdout",
     "output_type": "stream",
     "text": [
      "\n",
      "    Using M = 0\n",
      "        P = 94.912\n",
      "        K = 9.491\n",
      "        T = 0.209\n",
      "    Error: 7.70%\n",
      "    \n"
     ]
    },
    {
     "data": {
      "image/png": "[encoded data removed]",
      "text/plain": [
       "<Figure size 432x288 with 1 Axes>"
      ]
     },
     "metadata": {
      "needs_background": "light"
     },
     "output_type": "display_data"
    }
   ],
   "source": [
    "h_dim = 64\n",
    "n_layers = 8\n",
    "method = '0'\n",
    "batch_size = 64\n",
    "pc_err = \"2.49e-02\"\n",
    "\n",
    "datafile = f'method_{method}.csv'\n",
    "\n",
    "(_, _, test), consts_dict = data_iterators(\n",
    "    batch_size=batch_size,\n",
    "    datafile=datafile\n",
    "    )\n",
    "\n",
    "model_file = f'M_{method}_n_layers_{n_layers}_hid_dim_{h_dim}_val_pc_err={pc_err}.ckpt'\n",
    "model_path = os.path.join(\"Results\", \"saved_models\", f'Method_{method}', model_file)\n",
    "model = MLP.load_from_checkpoint(\n",
    "    checkpoint_path=model_path,\n",
    "    hidden_dim=h_dim,\n",
    "    n_layers=n_layers,\n",
    "    consts_dict=consts_dict\n",
    "    )\n",
    "\n",
    "P = 100\n",
    "K = 10\n",
    "T = 0.2\n",
    "\n",
    "compare_with_data(P, K, T, datafile, model, h_dim, n_layers)"
   ]
  },
  {
   "cell_type": "code",
   "execution_count": 10,
   "metadata": {},
   "outputs": [
    {
     "name": "stdout",
     "output_type": "stream",
     "text": [
      "[0.69897    0.95462838 1.21031852 1.46597737 1.72165401 1.97732113\n",
      " 2.23299103 2.48866069 2.74432976 3.        ]\n",
      "[0.69897    0.7309273  0.7628846  0.79484189 0.82679919 0.85875649\n",
      " 0.89071378 0.92267108 0.95462838 0.98658965 1.01855091 1.05051218\n",
      " 1.08247345 1.11443472 1.14639598 1.17835725 1.21031852 1.24227588\n",
      " 1.27423323 1.30619059 1.33814794 1.3701053  1.40206266 1.43402001\n",
      " 1.46597737 1.49793695 1.52989653 1.56185611 1.59381569 1.62577527\n",
      " 1.65773485 1.68969443 1.72165401 1.7536124  1.78557079 1.81752918\n",
      " 1.84948757 1.88144596 1.91340435 1.94536274 1.97732113 2.00927986\n",
      " 2.0412386  2.07319734 2.10515608 2.13711482 2.16907355 2.20103229\n",
      " 2.23299103 2.26494974 2.29690844 2.32886715 2.36082586 2.39278457\n",
      " 2.42474327 2.45670198 2.48866069 2.52061932 2.55257795 2.58453659\n",
      " 2.61649522 2.64845386 2.68041249 2.71237113 2.74432976 2.77628854\n",
      " 2.80824732 2.8402061  2.87216488 2.90412366 2.93608244 2.96804122\n",
      " 3.        ]\n"
     ]
    }
   ],
   "source": [
    "Ks = np.linspace(0.1, 0.9, 9, endpoint=True)\n",
    "Ts =  np.linspace(0.05, 1, 10).round(3)\n",
    "ts = np.logspace(np.log10(0.05), np.log10(20), 100).round(3)\n",
    "\n",
    "# p_mean, p_norm = get_mean_norm(Ps)\n",
    "T_mean, T_norm = get_mean_norm(Ts, log=False)\n",
    "t_mean, t_norm = get_mean_norm(ts)\n",
    "\n",
    "# print(p_mean, p_norm)\n",
    "splits = 3\n",
    "Ps = np.logspace(np.log10(5), 3, 10).round(3)\n",
    "lin_spaced = np.log10(Ps)\n",
    "print(lin_spaced)\n",
    "for i in range(splits):\n",
    "    l2 = (lin_spaced[1:] + lin_spaced[:-1])/2\n",
    "    lin_spaced = np.concatenate((lin_spaced, l2))\n",
    "    lin_spaced = np.unique(lin_spaced)\n",
    "    lin_spaced = np.sort(lin_spaced)\n",
    "print(lin_spaced)\n",
    "\n",
    "# Ps = np.logspace(np.log10(5), 3, 20).round(3)\n",
    "# print(Ps)\n",
    "# print(log_to_lin(Ps, p_mean, p_norm))\n",
    "# print(lin_to_log(log_to_lin(Ps, p_mean, p_norm), p_mean, p_norm))"
   ]
  },
  {
   "cell_type": "code",
   "execution_count": null,
   "metadata": {},
   "outputs": [],
   "source": []
  },
  {
   "cell_type": "code",
   "execution_count": null,
   "metadata": {},
   "outputs": [],
   "source": []
  }
 ],
 "metadata": {
  "interpreter": {
   "hash": "5419f4b8d77a62207be0c4190918d038e0d09f5a0017a17b6f6ccb89093bf446"
  },
  "kernelspec": {
   "display_name": "Python 3.9.0 ('.venv': venv)",
   "language": "python",
   "name": "python3"
  },
  "language_info": {
   "codemirror_mode": {
    "name": "ipython",
    "version": 3
   },
   "file_extension": ".py",
   "mimetype": "text/x-python",
   "name": "python",
   "nbconvert_exporter": "python",
   "pygments_lexer": "ipython3",
   "version": "3.9.0"
  },
  "orig_nbformat": 4
 },
 "nbformat": 4,
 "nbformat_minor": 2
}
