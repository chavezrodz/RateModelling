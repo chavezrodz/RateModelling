{
 "cells": [
  {
   "cell_type": "code",
   "execution_count": 4,
   "metadata": {},
   "outputs": [],
   "source": [
    "import matplotlib.pyplot as plt\n",
    "import numpy as np\n",
    "import pandas as pd\n",
    "import torch\n",
    "from MLP import MLP\n",
    "import os\n",
    "from compare_data import compare_with_data\n",
    "from utils import get_mean_norm\n"
   ]
  },
  {
   "cell_type": "code",
   "execution_count": 16,
   "metadata": {},
   "outputs": [
    {
     "name": "stderr",
     "output_type": "stream",
     "text": [
      "/home/rodrigo/Desktop/McGill/Research/Rates/rate_modelling/compare_data.py:29: UserWarning: Boolean Series key will be reindexed to match DataFrame index.\n",
      "  subset = subset[df['K'] == k_closest]\n"
     ]
    },
    {
     "name": "stdout",
     "output_type": "stream",
     "text": [
      "\n",
      "    Using M = 0\n",
      "        P = 16.23 \n",
      "        K = 3.246 \n",
      "        T = 0.261\n",
      "    Error: 3.32%\n",
      "    \n"
     ]
    },
    {
     "data": {
      "image/png": "[encoded data removed]",
      "text/plain": [
       "<Figure size 432x288 with 1 Axes>"
      ]
     },
     "metadata": {
      "needs_background": "light"
     },
     "output_type": "display_data"
    }
   ],
   "source": [
    "h_dim = 64\n",
    "n_layers = 6\n",
    "DATASET = 'method_0.csv'\n",
    "model_file = f'n_layers_{n_layers}_hid_dim_{h_dim}_val_pc_err=3.62e-02.ckpt'\n",
    "model_path = os.path.join(\"Results\", \"saved_models\", model_file)\n",
    "model = MLP.load_from_checkpoint(\n",
    "    checkpoint_path=model_path,\n",
    "    hidden_dim=h_dim,\n",
    "    n_layers=n_layers\n",
    "    )\n",
    "\n",
    "P = 16\n",
    "K = 3\n",
    "T = 0.3\n",
    "\n",
    "compare_with_data(P, K, T, DATASET, model, h_dim, n_layers)"
   ]
  },
  {
   "cell_type": "code",
   "execution_count": 9,
   "metadata": {},
   "outputs": [
    {
     "name": "stdout",
     "output_type": "stream",
     "text": [
      "1.8494850881985143 1.1505149978319906\n",
      "0.525 0.475\n",
      "1.8494850881985143 1.1505149978319906\n"
     ]
    }
   ],
   "source": [
    "Ps = np.logspace(np.log10(5), 3, 10).round(3)\n",
    "Ts =  np.linspace(0.05, 1, 10).round(3)\n",
    "Ks = np.linspace(0.1, 0.9, 9, endpoint=True)\n",
    "ts = np.logspace(np.log10(5), 3, 10).round(3)\n",
    "\n",
    "p_mean, p_norm = get_mean_norm(Ps)\n",
    "T_mean, T_norm = get_mean_norm(Ts, log=False)\n",
    "t_mean, t_norm = get_mean_norm(ts)\n",
    "print(p_mean, p_norm)\n",
    "print(T_mean, T_norm)\n",
    "print(t_mean, t_norm)"
   ]
  },
  {
   "cell_type": "code",
   "execution_count": null,
   "metadata": {},
   "outputs": [],
   "source": []
  }
 ],
 "metadata": {
  "interpreter": {
   "hash": "5419f4b8d77a62207be0c4190918d038e0d09f5a0017a17b6f6ccb89093bf446"
  },
  "kernelspec": {
   "display_name": "Python 3.9.0 ('.venv': venv)",
   "language": "python",
   "name": "python3"
  },
  "language_info": {
   "codemirror_mode": {
    "name": "ipython",
    "version": 3
   },
   "file_extension": ".py",
   "mimetype": "text/x-python",
   "name": "python",
   "nbconvert_exporter": "python",
   "pygments_lexer": "ipython3",
   "version": "3.9.0"
  },
  "orig_nbformat": 4
 },
 "nbformat": 4,
 "nbformat_minor": 2
}
