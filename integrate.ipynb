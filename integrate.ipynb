{
 "cells": [
  {
   "cell_type": "code",
   "execution_count": 1,
   "metadata": {},
   "outputs": [
    {
     "name": "stderr",
     "output_type": "stream",
     "text": [
      "Global seed set to 0\n"
     ]
    },
    {
     "data": {
      "text/plain": [
       "0"
      ]
     },
     "execution_count": 1,
     "metadata": {},
     "output_type": "execute_result"
    }
   ],
   "source": [
    "import matplotlib.pyplot as plt\n",
    "import numpy as np\n",
    "import pandas as pd\n",
    "import torch\n",
    "import os\n",
    "import seaborn as sns\n",
    "from misc.utils import load_df\n",
    "from misc.iterators import data_iterators\n",
    "from misc.MLP import MLP\n",
    "from pytorch_lightning import utilities\n",
    "import scipy.integrate as integrate\n",
    "\n",
    "utilities.seed.seed_everything(seed=0, workers=True)"
   ]
  },
  {
   "cell_type": "code",
   "execution_count": 2,
   "metadata": {},
   "outputs": [],
   "source": [
    "def compare_k_preds(P, T, t, datapath, dataset, model, a, b, N=50, which='both'):\n",
    "    # Data\n",
    "    df = load_df(datapath, dataset, which)\n",
    "\n",
    "    p_values = np.sort(df['P'].unique())\n",
    "    T_values = np.sort(df['T'].unique())\n",
    "    t_values = np.sort(df['t'].unique())\n",
    "\n",
    "    p_idx = np.argmin(np.abs(P - p_values))\n",
    "    T_idx = np.argmin(np.abs(T - T_values))\n",
    "    t_idx = np.argmin(np.abs(t - t_values))\n",
    "\n",
    "    subset = df[(df['P'] == p_values[p_idx]) &\n",
    "                (df['T'] == T_values[T_idx]) &\n",
    "                (df['t'] == t_values[t_idx])]\n",
    "\n",
    "    subset = subset.drop(['M'], axis=1).sort_values('K')\n",
    "    print(subset['K'].min(), subset['K'].max())\n",
    "    plt.plot(subset['K'], subset['gamma'], label='data')\n",
    "\n",
    "    # Model\n",
    "    K = torch.linspace(a, b, N) * P\n",
    "    X = torch.zeros(N, 4)\n",
    "    X[:, 0] = P\n",
    "    X[:, 1] = K\n",
    "    X[:, 2] = T\n",
    "    X[:, 3] = t\n",
    "    pred = model(X).detach().squeeze()\n",
    "\n",
    "    plt.plot(K, pred, label='prediction')\n",
    "    plt.legend()\n",
    "    plt.show()\n",
    "\n",
    "    pass\n",
    "\n",
    "\n",
    "def k_integral(P, T, t, datapath, dataset, model, a, b, N=50, which='both'):\n",
    "    # Data\n",
    "    df = load_df(datapath, dataset, which)\n",
    "\n",
    "    p_values = np.sort(df['P'].unique())\n",
    "    T_values = np.sort(df['T'].unique())\n",
    "    t_values = np.sort(df['t'].unique())\n",
    "\n",
    "    p_idx = np.argmin(np.abs(P - p_values))\n",
    "    T_idx = np.argmin(np.abs(T - T_values))\n",
    "    t_idx = np.argmin(np.abs(t - t_values))\n",
    "\n",
    "    subset = df[(df['P'] == p_values[p_idx]) &\n",
    "                (df['T'] == T_values[T_idx]) &\n",
    "                (df['t'] == t_values[t_idx])]\n",
    "\n",
    "    subset = subset.drop(['M'], axis=1).sort_values('K')\n",
    "\n",
    "    x, y = subset['K'], subset['gamma']\n",
    "\n",
    "    # romb_integral = integrate.romb(y, np.diff(x).mean())\n",
    "    simp_integral = integrate.simpson(y, x=x)\n",
    "    # Model\n",
    "    def func(k):\n",
    "        k = torch.tensor(k)\n",
    "        X = torch.zeros(len(k), 4)\n",
    "        X[:, 0] = P\n",
    "        X[:, 1] = k\n",
    "        X[:, 2] = T\n",
    "        X[:, 3] = t\n",
    "        return np.array(model(X).detach().squeeze())\n",
    "\n",
    "    model_integral = integrate.quadrature(func, a*P, b*P)\n",
    "\n",
    "    print(f\"\"\"\n",
    "    Simpson_integral:{simp_integral}    \n",
    "    Model Integral with Gaussian Quadrature: {model_integral}\n",
    "    \"\"\")\n",
    "\n",
    "\n",
    "    return"
   ]
  },
  {
   "cell_type": "code",
   "execution_count": 3,
   "metadata": {},
   "outputs": [
    {
     "name": "stdout",
     "output_type": "stream",
     "text": [
      "0.949 93.963\n"
     ]
    },
    {
     "data": {
      "image/png": "[encoded data removed]",
      "text/plain": [
       "<Figure size 432x288 with 1 Axes>"
      ]
     },
     "metadata": {
      "needs_background": "light"
     },
     "output_type": "display_data"
    },
    {
     "name": "stdout",
     "output_type": "stream",
     "text": [
      "\n",
      "    Simpson_integral:0.09319733473934376    \n",
      "    Model Integral with Gaussian Quadrature: (0.09454401187168623, 0.00014504800329526168)\n",
      "    \n"
     ]
    },
    {
     "name": "stderr",
     "output_type": "stream",
     "text": [
      "/home/rodrigo/Desktop/McGill/Research/Rates/rate_modelling/.venv/lib/python3.9/site-packages/scipy/integrate/_quadrature.py:277: AccuracyWarning: maxiter (50) exceeded. Latest difference = 1.450480e-04\n",
      "  warnings.warn(\n"
     ]
    }
   ],
   "source": [
    "h_dim = 64\n",
    "n_layers = 8\n",
    "method = '0'\n",
    "batch_size = 64\n",
    "pc_err = \"2.93e-02\"\n",
    "\n",
    "datafile = 'method_0.csv'\n",
    "datapath = '../datasets'\n",
    "which = 'both'\n",
    "\n",
    "\n",
    "results_dir = \"Results\"\n",
    "(_, _, test), consts_dict = data_iterators(\n",
    "    datafile=datafile,\n",
    "    datapath=datapath,\n",
    "    batch_size=batch_size,\n",
    "    which_spacing=which\n",
    "    )\n",
    "\n",
    "model_file = f'M_{method}_n_layers_{n_layers}_hid_dim_{h_dim}_val_pc_err={pc_err}.ckpt'\n",
    "model_path = os.path.join(\n",
    "    results_dir, \"Rate_modelling\", \"saved_models\", f'Method_{method}', model_file\n",
    "    )\n",
    "model = MLP.load_from_checkpoint(\n",
    "    checkpoint_path=model_path,\n",
    "    hidden_dim=h_dim,\n",
    "    n_layers=n_layers,\n",
    "    consts_dict=consts_dict\n",
    "    )\n",
    "\n",
    "P = 94.912\n",
    "T = 0.26\n",
    "t = 1.05\n",
    "\n",
    "a = 0.01\n",
    "b = 0.99\n",
    "N = 40\n",
    "compare_k_preds(P, T, t, datapath, datafile, model, a, b, N=N, which=which)\n",
    "k_integral(P, T, t, datapath, datafile, model, a, b, N=N, which=which)"
   ]
  },
  {
   "cell_type": "code",
   "execution_count": null,
   "metadata": {},
   "outputs": [],
   "source": []
  },
  {
   "cell_type": "code",
   "execution_count": null,
   "metadata": {},
   "outputs": [],
   "source": []
  }
 ],
 "metadata": {
  "interpreter": {
   "hash": "5419f4b8d77a62207be0c4190918d038e0d09f5a0017a17b6f6ccb89093bf446"
  },
  "kernelspec": {
   "display_name": "Python 3.9.0 ('.venv': venv)",
   "language": "python",
   "name": "python3"
  },
  "language_info": {
   "codemirror_mode": {
    "name": "ipython",
    "version": 3
   },
   "file_extension": ".py",
   "mimetype": "text/x-python",
   "name": "python",
   "nbconvert_exporter": "python",
   "pygments_lexer": "ipython3",
   "version": "3.9.0"
  },
  "orig_nbformat": 4
 },
 "nbformat": 4,
 "nbformat_minor": 2
}
